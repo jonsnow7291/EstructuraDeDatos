{
 "cells": [
  {
   "cell_type": "markdown",
   "metadata": {},
   "source": [
    "# ppython_sda\n",
    "Entorno listo. Ejecuta la siguiente celda para verificar. ✅\n"
   ]
  },
  {
   "cell_type": "code",
   "execution_count": 1,
   "metadata": {},
   "outputs": [
    {
     "name": "stdout",
     "output_type": "stream",
     "text": [
      "Python: 3.12.1 (v3.12.1:2305ca5144, Dec  7 2023, 17:23:39) [Clang 13.0.0 (clang-1300.0.29.30)]\n",
      "VIRTUAL_ENV: /Users/alonsoguevara/PythonProjects/2025/ppython_sda/.venv\n"
     ]
    }
   ],
   "source": [
    "import sys, os\n",
    "print('Python:', sys.version)\n",
    "print('VIRTUAL_ENV:', os.environ.get('VIRTUAL_ENV'))\n"
   ]
  },
  {
   "cell_type": "code",
   "execution_count": null,
   "id": "9c6c990b",
   "metadata": {},
   "outputs": [],
   "source": []
  }
 ],
 "metadata": {
  "kernelspec": {
   "display_name": ".venv",
   "language": "python",
   "name": "python3"
  },
  "language_info": {
   "codemirror_mode": {
    "name": "ipython",
    "version": 3
   },
   "file_extension": ".py",
   "mimetype": "text/x-python",
   "name": "python",
   "nbconvert_exporter": "python",
   "pygments_lexer": "ipython3",
   "version": "3.12.1"
  }
 },
 "nbformat": 4,
 "nbformat_minor": 5
}
