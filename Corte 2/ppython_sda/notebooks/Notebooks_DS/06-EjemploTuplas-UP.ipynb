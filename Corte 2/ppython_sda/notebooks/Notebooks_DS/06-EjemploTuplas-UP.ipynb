{
 "cells": [
  {
   "cell_type": "markdown",
   "id": "ad7cd7d8",
   "metadata": {},
   "source": [
    "# 06 Ejemplotuplas Up\n",
    "\n",
    "**Curso:** Estructuras de Datos (Ingeniería de Sistemas)\n",
    "\n",
    "**Propósito:** Comprender y aplicar las ideas clave del tema, analizando complejidad y usos prácticos."
   ]
  },
  {
   "cell_type": "markdown",
   "id": "1b0bd14a",
   "metadata": {},
   "source": [
    "### Objetivos de aprendizaje\n",
    "- Reconocer el modelo de datos y operaciones fundamentales.\n",
    "- Analizar la complejidad temporal y espacial de las operaciones clave.\n",
    "- Implementar y probar funciones en Python con casos de uso reales.\n",
    "- Comparar ventajas y limitaciones frente a alternativas.\n"
   ]
  },
  {
   "cell_type": "markdown",
   "id": "0d8476d0",
   "metadata": {},
   "source": [
    "### Teoría esencial\n",
    "\n",
    "Este cuaderno fue generado a partir del código fuente proporcionado.\n",
    "Relaciona el contenido con un tema del curso de Estructuras de Datos (listas, pilas, colas, árboles, grafos, hashing, ordenamiento, búsqueda, etc.).\n",
    "Identifica operaciones, invariantes y analiza su complejidad."
   ]
  },
  {
   "cell_type": "markdown",
   "id": "8265db1f",
   "metadata": {},
   "source": [
    "### Guía de estudio\n",
    "- Identifica operaciones fundamentales y su costo asintótico.\n",
    "- Observa invariante(s) de la estructura (lo que siempre debe cumplirse).\n",
    "- Relaciona la estructura con patrones de uso en software (colas de trabajo, caches, planificadores, etc.)."
   ]
  },
  {
   "cell_type": "markdown",
   "id": "6d221d68",
   "metadata": {},
   "source": [
    "### Implementación base (desde el archivo `.py`)\n",
    "El siguiente bloque contiene el código original."
   ]
  },
  {
   "cell_type": "code",
   "execution_count": null,
   "id": "cb7e2c71",
   "metadata": {},
   "outputs": [],
   "source": [
    "print('*** Manejo de Tuplas ***')\n",
    "\n",
    "mi_tupla = (1, 2, 3, 4, 5)\n",
    "print(mi_tupla)\n",
    "# No podemos modificar una tupla\n",
    "#mi_tupla[0] = 10\n",
    "#mi_tupla.append(6)\n",
    "\n",
    "# Iteramos los elementos de una tupla\n",
    "for elemento in mi_tupla:\n",
    "    print(elemento, end=' ')\n",
    "\n",
    "# Crear una tupla para una coordenada x,y\n",
    "coordenadas = (3, 5)\n",
    "# Accedemos a cada elemento de la tupla\n",
    "print(f'\\nCoordenada en el eje x: {coordenadas[0]}')\n",
    "print(f'Coordenada en el eje y: {coordenadas[1]}')\n",
    "\n",
    "# Crear una tupla unitaria\n",
    "tupla_un_elemento = 10,\n",
    "print(f'Tupla de un elemento: {tupla_un_elemento}')\n",
    "\n",
    "# Tupla anidada\n",
    "tuplas_anidada = (1, (2,3), (4,5))\n",
    "print(f'Segundo elemento tupla anidada: {tuplas_anidada[1]}')"
   ]
  },
  {
   "cell_type": "markdown",
   "id": "badc0570",
   "metadata": {},
   "source": [
    "### Pruebas rápidas\n",
    "Usa estos ejemplos para verificar comportamientos básicos. Ajusta según tus funciones."
   ]
  },
  {
   "cell_type": "code",
   "execution_count": null,
   "id": "f73a5659",
   "metadata": {},
   "outputs": [],
   "source": [
    "# Agrega aquí tus pruebas unitarias"
   ]
  },
  {
   "cell_type": "markdown",
   "id": "28d50853",
   "metadata": {},
   "source": [
    "### Complejidad (análisis informal)\n",
    "Completa esta tabla de forma crítica, justificando cada costo.\n",
    "\n",
    "| Operación | Mejor caso | Promedio | Peor caso | Nota |\n",
    "|---|---|---|---|---|\n",
    "| op1 | O( ) | O( ) | O( ) |  |\n",
    "| op2 | O( ) | O( ) | O( ) |  |\n",
    "| op3 | O( ) | O( ) | O( ) |  |"
   ]
  },
  {
   "cell_type": "markdown",
   "id": "b6dbebab",
   "metadata": {},
   "source": [
    "### Ejercicios propuestos\n",
    "1. Implementa pruebas unitarias con `pytest` para al menos 5 funciones/operaciones.\n",
    "2. Mide empíricamente tiempos (con `timeit`) al variar n, y compara con el análisis teórico.\n",
    "3. Extiende la implementación para cubrir un caso límite (overflow, colisión, degeneración, etc.).\n",
    "4. Escribe una breve reflexión: ¿en qué contextos reales usarías esta estructura sobre sus alternativas?"
   ]
  },
  {
   "cell_type": "markdown",
   "id": "2dee644e",
   "metadata": {},
   "source": [
    "### Referencias rápidas\n",
    "- Cormen, Leiserson, Rivest, Stein. *Introduction to Algorithms* (CLRS).\n",
    "- Sedgewick & Wayne. *Algorithms*.\n",
    "- Documentación oficial de Python: `collections`, `heapq`, `bisect`, `array`."
   ]
  },
  {
   "cell_type": "markdown",
   "id": "194f8cf9",
   "metadata": {},
   "source": [
    "*Fuente de código:* `06-EjemploTuplas-UP.py`  — Generado automáticamente el 2025-09-08 22:41."
   ]
  }
 ],
 "metadata": {},
 "nbformat": 4,
 "nbformat_minor": 5
}
