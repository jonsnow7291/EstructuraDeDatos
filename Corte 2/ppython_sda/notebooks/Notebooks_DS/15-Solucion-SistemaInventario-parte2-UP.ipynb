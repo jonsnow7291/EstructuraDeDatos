{
 "cells": [
  {
   "cell_type": "markdown",
   "id": "a811926b",
   "metadata": {},
   "source": [
    "# Diccionarios (HashMap)\n",
    "\n",
    "**Curso:** Estructuras de Datos (Ingeniería de Sistemas)\n",
    "\n",
    "**Propósito:** Comprender y aplicar las ideas clave del tema, analizando complejidad y usos prácticos."
   ]
  },
  {
   "cell_type": "markdown",
   "id": "54d87eef",
   "metadata": {},
   "source": [
    "### Objetivos de aprendizaje\n",
    "- Reconocer el modelo de datos y operaciones fundamentales.\n",
    "- Analizar la complejidad temporal y espacial de las operaciones clave.\n",
    "- Implementar y probar funciones en Python con casos de uso reales.\n",
    "- Comparar ventajas y limitaciones frente a alternativas.\n"
   ]
  },
  {
   "cell_type": "markdown",
   "id": "a109a688",
   "metadata": {},
   "source": [
    "### Teoría esencial\n",
    "\n",
    "Mapeo clave→valor basado en tabla hash. \n",
    "Operaciones promedio O(1) (peor caso O(n)). Claves deben ser hashables/inmutables."
   ]
  },
  {
   "cell_type": "markdown",
   "id": "ded1859f",
   "metadata": {},
   "source": [
    "### Guía de estudio\n",
    "- Identifica operaciones fundamentales y su costo asintótico.\n",
    "- Observa invariante(s) de la estructura (lo que siempre debe cumplirse).\n",
    "- Relaciona la estructura con patrones de uso en software (colas de trabajo, caches, planificadores, etc.)."
   ]
  },
  {
   "cell_type": "markdown",
   "id": "dd903c76",
   "metadata": {},
   "source": [
    "### Implementación base (desde el archivo `.py`)\n",
    "El siguiente bloque contiene el código original."
   ]
  },
  {
   "cell_type": "code",
   "execution_count": null,
   "id": "f579688e",
   "metadata": {},
   "outputs": [],
   "source": [
    "print('*** Sistema de Inventarios ***')\n",
    "\n",
    "inventario = []\n",
    "\n",
    "numero_productos = int(input('Cuantos productos deseas agregar al inventario? '))\n",
    "\n",
    "for indice in range(numero_productos):\n",
    "    print(f'Proporciona los valores del producto {indice + 1}')\n",
    "    nombre = input('Nombre: ')\n",
    "    precio = float(input('Precio: '))\n",
    "    cantidad = int(input('Cantidad: '))\n",
    "    # Creamos el diccionario con el detalle del producto\n",
    "    producto = {'id': indice, 'nombre': nombre, 'precio': precio, 'cantidad': cantidad}\n",
    "    # Agregamos el nuevo producto al inventario\n",
    "    inventario.append(producto)\n",
    "\n",
    "# Mostrar el inventario inicial\n",
    "print(f'\\nInventario inicial: {inventario}')\n",
    "\n",
    "# Buscar un producto por id\n",
    "id_buscar = int(input('\\nIngresa el ID del producto a buscar: '))\n",
    "producto_encontrado = None\n",
    "for producto in inventario:\n",
    "    if producto.get('id') == id_buscar:\n",
    "        producto_encontrado = producto\n",
    "        break\n",
    "\n",
    "if producto_encontrado is not None:\n",
    "    print('Información de producto encontrado: ')\n",
    "    print(f'''Id: {producto_encontrado.get('id')}\n",
    "    Nombre: {producto_encontrado.get('nombre')}\n",
    "    Precio: {producto_encontrado.get('precio')}\n",
    "    Cantidad: {producto_encontrado.get('cantidad')}''')\n",
    "else:\n",
    "    print(f'Producto con id {id_buscar} NO encontrado')\n",
    "\n",
    "# Mostrar el inventario detallado\n",
    "print(f'\\n--- Inventario Detallado ---')\n",
    "for producto in inventario:\n",
    "    print(f'''Id: {producto.get('id')}\n",
    "    Nombre: {producto.get('nombre')}\n",
    "    Precio: ${producto.get('precio'):.2f}\n",
    "    Cantidad: {producto.get('cantidad')}''')\n"
   ]
  },
  {
   "cell_type": "markdown",
   "id": "7f4f808e",
   "metadata": {},
   "source": [
    "### Pruebas rápidas\n",
    "Usa estos ejemplos para verificar comportamientos básicos. Ajusta según tus funciones."
   ]
  },
  {
   "cell_type": "code",
   "execution_count": null,
   "id": "00fa833d",
   "metadata": {},
   "outputs": [],
   "source": [
    "# Agrega aquí tus pruebas unitarias"
   ]
  },
  {
   "cell_type": "markdown",
   "id": "b7904a32",
   "metadata": {},
   "source": [
    "### Complejidad (análisis informal)\n",
    "Completa esta tabla de forma crítica, justificando cada costo.\n",
    "\n",
    "| Operación | Mejor caso | Promedio | Peor caso | Nota |\n",
    "|---|---|---|---|---|\n",
    "| op1 | O( ) | O( ) | O( ) |  |\n",
    "| op2 | O( ) | O( ) | O( ) |  |\n",
    "| op3 | O( ) | O( ) | O( ) |  |"
   ]
  },
  {
   "cell_type": "markdown",
   "id": "62945ce7",
   "metadata": {},
   "source": [
    "### Ejercicios propuestos\n",
    "1. Implementa pruebas unitarias con `pytest` para al menos 5 funciones/operaciones.\n",
    "2. Mide empíricamente tiempos (con `timeit`) al variar n, y compara con el análisis teórico.\n",
    "3. Extiende la implementación para cubrir un caso límite (overflow, colisión, degeneración, etc.).\n",
    "4. Escribe una breve reflexión: ¿en qué contextos reales usarías esta estructura sobre sus alternativas?"
   ]
  },
  {
   "cell_type": "markdown",
   "id": "7b454a7d",
   "metadata": {},
   "source": [
    "### Desarrollo de los ejercicios\n",
    "A continuación se presentan soluciones de referencia a los 4 ejercicios propuestos.\n",
    "\n",
    "#### 1. Pruebas unitarias (pytest)\n",
    "Se creó el módulo `inventory_ops.py` (operaciones sobre una lista de productos) y el archivo de pruebas `tests/test_inventory_ops.py` con más de 5 pruebas:\n",
    "- Creación e ids incrementales.\n",
    "- Búsqueda por id.\n",
    "- Actualización de stock.\n",
    "- Eliminación de producto.\n",
    "- Cálculo de valor total del inventario.\n",
    "- Casos de error (precio/cantidad negativa) y producto inexistente.\n",
    "\n",
    "Ejecuta (desde la raíz del repo):\n",
    "```\n",
    "pytest -q Corte\\ 2/ppython_sda/tests/test_inventory_ops.py\n",
    "```\n",
    "\n",
    "#### 2. Medición empírica de tiempos (timeit)\n",
    "Se añadió `benchmarks/bench_inventory_ops.py` que mide `find_by_id`, `update_stock` y `remove_product` sobre el último elemento (caso que fuerza recorrer toda la lista) para tamaños n = 10, 100, 1000, 5000.\n",
    "Cada operación muestra best y avg.\n",
    "\n",
    "Ejemplo de ejecución:\n",
    "```\n",
    "python -m ppython_sda.benchmarks.bench_inventory_ops\n",
    "```\n",
    "Interpretación esperada: los tiempos deberían crecer de manera aproximadamente lineal al aumentar n (coherente con O(n) para búsqueda/actualización/eliminación en lista). `add_product` tal como está también es O(n) por usar `max` para generar id.\n",
    "\n",
    "#### 3. Extensión: caso límite / degeneración\n",
    "Se simula degeneración manteniendo la estructura como lista (sin índice hash) para observar el peor caso de búsqueda lineal. Un posible caso límite adicional sería introducir productos con datos corruptos; la función `total_value` maneja con try/except silencioso para ser tolerante a errores.\n",
    "\n",
    "Posible mejora (no implementada a propósito para análisis): cambiar a un dict `id -> producto` y un contador incremental, lo que daría O(1) promedio en add/find/update/remove, cambiando el perfil temporal.\n",
    "\n",
    "#### 4. Reflexión: ¿cuándo usar esta estructura?\n",
    "Usar una lista de diccionarios es aceptable cuando:\n",
    "- El número de elementos es pequeño (n bajo) y la simplicidad pesa más que la optimización.\n",
    "- Se requiere preservar orden de inserción y recorridos frecuentes completos.\n",
    "- Se hacen transformaciones secuenciales (filtrar/mapear) más que búsquedas por id repetidas.\n",
    "\n",
    "Alternativas preferibles:\n",
    "- `dict` (hash map) cuando las búsquedas/actualizaciones por clave son frecuentes (O(1) promedio) y n crece.\n",
    "- `OrderedDict` (caso histórico; hoy dict ya mantiene orden) cuando necesitas operaciones de reordenamiento controlado.\n",
    "- Estructuras especializadas (árbol balanceado, `bisect` sobre lista ordenada) si necesitas búsquedas por rango u ordenamientos mantenidos.\n",
    "- `pandas.DataFrame` si se requieren operaciones vectorizadas, agregaciones y análisis tabular más complejo.\n",
    "\n",
    "Resumen: la implementación actual sirve como laboratorio pedagógico para observar el costo O(n) y luego justificar migrar a un hash map real.\n"
   ]
  },
  {
   "cell_type": "code",
   "execution_count": null,
   "id": "0d93c06a",
   "metadata": {},
   "outputs": [],
   "source": [
    "# Benchmark rápido en la notebook (complemento al script en benchmarks)\n",
    "from timeit import repeat\n",
    "from ppython_sda.src.inventory_ops import add_product, find_by_id, update_stock, remove_product\n",
    "\n",
    "resultados = []\n",
    "for n in [10, 100, 1000, 3000]:\n",
    "    inv = []\n",
    "    for i in range(n):\n",
    "        add_product(inv, f\"P{i}\", 1.0, 1)\n",
    "\n",
    "    setup = \"from __main__ import inv, find_by_id, update_stock, remove_product, n\"  # variables ya en scope\n",
    "    # Medimos buscar el último id (peor caso)\n",
    "    stmt_find = f\"find_by_id(inv, {n-1})\"\n",
    "    stmt_update = f\"update_stock(inv, {n-1}, 2)\"\n",
    "    stmt_remove = f\"remove_product(inv, {n-1})\"\n",
    "\n",
    "    for label, stmt in [(\"find_last\", stmt_find), (\"update_last\", stmt_update), (\"remove_last\", stmt_remove)]:\n",
    "        tiempos = repeat(stmt=stmt, setup=setup, repeat=3, number=30)\n",
    "        mejor = min(tiempos)/30\n",
    "        promedio = sum(tiempos)/len(tiempos)/30\n",
    "        resultados.append((label, n, mejor, promedio))\n",
    "\n",
    "# Mostrar resultados ordenados por n\n",
    "for label, n, best_t, avg_t in resultados:\n",
    "    print(f\"{label:<12} n={n:<5} best={best_t:.6e}s avg={avg_t:.6e}s\")\n",
    "\n",
    "print(\"\\nObservación: el tiempo crece aproximadamente de forma lineal con n -> consistente con O(n).\")"
   ]
  },
  {
   "cell_type": "markdown",
   "id": "2e249544",
   "metadata": {},
   "source": [
    "#### Comparación empírico vs teórico\n",
    "Los tiempos muestran crecimiento casi proporcional a n (cierta variabilidad por ruido del sistema). Esto valida el modelo O(n) para búsqueda/actualización/eliminación al trabajar con una lista. Una optimización natural sería cambiar a un `dict` (hash map) y medir de nuevo: la pendiente se achataría, quedando aproximadamente constante hasta que efectos de caché/memoria se hagan relevantes.\n",
    "\n",
    "Conclusión: la implementación actual es útil para mostrar el motivo de migrar a estructuras con hashing cuando las operaciones de acceso por id son muy frecuentes."
   ]
  },
  {
   "cell_type": "markdown",
   "id": "72d2b474",
   "metadata": {},
   "source": [
    "### Referencias rápidas\n",
    "- Cormen, Leiserson, Rivest, Stein. *Introduction to Algorithms* (CLRS).\n",
    "- Sedgewick & Wayne. *Algorithms*.\n",
    "- Documentación oficial de Python: `collections`, `heapq`, `bisect`, `array`."
   ]
  },
  {
   "cell_type": "markdown",
   "id": "ae2c8500",
   "metadata": {},
   "source": [
    "*Fuente de código:* `15-Solucion-SistemaInventario-parte2-UP.py`  — Generado automáticamente el 2025-09-08 22:41."
   ]
  }
 ],
 "metadata": {
  "kernelspec": {
   "display_name": ".venv",
   "language": "python",
   "name": "python3"
  },
  "language_info": {
   "codemirror_mode": {
    "name": "ipython",
    "version": 3
   },
   "file_extension": ".py",
   "mimetype": "text/x-python",
   "name": "python",
   "nbconvert_exporter": "python",
   "pygments_lexer": "ipython3",
   "version": "3.12.3"
  }
 },
 "nbformat": 4,
 "nbformat_minor": 5
}
