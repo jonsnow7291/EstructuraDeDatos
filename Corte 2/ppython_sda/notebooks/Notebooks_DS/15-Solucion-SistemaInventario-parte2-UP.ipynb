{
 "cells": [
  {
   "cell_type": "markdown",
   "id": "a811926b",
   "metadata": {},
   "source": [
    "# Diccionarios (HashMap)\n",
    "\n",
    "**Curso:** Estructuras de Datos (Ingeniería de Sistemas)\n",
    "\n",
    "**Propósito:** Comprender y aplicar las ideas clave del tema, analizando complejidad y usos prácticos."
   ]
  },
  {
   "cell_type": "markdown",
   "id": "54d87eef",
   "metadata": {},
   "source": [
    "### Objetivos de aprendizaje\n",
    "- Reconocer el modelo de datos y operaciones fundamentales.\n",
    "- Analizar la complejidad temporal y espacial de las operaciones clave.\n",
    "- Implementar y probar funciones en Python con casos de uso reales.\n",
    "- Comparar ventajas y limitaciones frente a alternativas.\n"
   ]
  },
  {
   "cell_type": "markdown",
   "id": "a109a688",
   "metadata": {},
   "source": [
    "### Teoría esencial\n",
    "\n",
    "Mapeo clave→valor basado en tabla hash. \n",
    "Operaciones promedio O(1) (peor caso O(n)). Claves deben ser hashables/inmutables."
   ]
  },
  {
   "cell_type": "markdown",
   "id": "ded1859f",
   "metadata": {},
   "source": [
    "### Guía de estudio\n",
    "- Identifica operaciones fundamentales y su costo asintótico.\n",
    "- Observa invariante(s) de la estructura (lo que siempre debe cumplirse).\n",
    "- Relaciona la estructura con patrones de uso en software (colas de trabajo, caches, planificadores, etc.)."
   ]
  },
  {
   "cell_type": "markdown",
   "id": "dd903c76",
   "metadata": {},
   "source": [
    "### Implementación base (desde el archivo `.py`)\n",
    "El siguiente bloque contiene el código original."
   ]
  },
  {
   "cell_type": "code",
   "execution_count": null,
   "id": "f579688e",
   "metadata": {},
   "outputs": [],
   "source": [
    "print('*** Sistema de Inventarios ***')\n",
    "\n",
    "inventario = []\n",
    "\n",
    "numero_productos = int(input('Cuantos productos deseas agregar al inventario? '))\n",
    "\n",
    "for indice in range(numero_productos):\n",
    "    print(f'Proporciona los valores del producto {indice + 1}')\n",
    "    nombre = input('Nombre: ')\n",
    "    precio = float(input('Precio: '))\n",
    "    cantidad = int(input('Cantidad: '))\n",
    "    # Creamos el diccionario con el detalle del producto\n",
    "    producto = {'id': indice, 'nombre': nombre, 'precio': precio, 'cantidad': cantidad}\n",
    "    # Agregamos el nuevo producto al inventario\n",
    "    inventario.append(producto)\n",
    "\n",
    "# Mostrar el inventario inicial\n",
    "print(f'\\nInventario inicial: {inventario}')\n",
    "\n",
    "# Buscar un producto por id\n",
    "id_buscar = int(input('\\nIngresa el ID del producto a buscar: '))\n",
    "producto_encontrado = None\n",
    "for producto in inventario:\n",
    "    if producto.get('id') == id_buscar:\n",
    "        producto_encontrado = producto\n",
    "        break\n",
    "\n",
    "if producto_encontrado is not None:\n",
    "    print('Información de producto encontrado: ')\n",
    "    print(f'''Id: {producto_encontrado.get('id')}\n",
    "    Nombre: {producto_encontrado.get('nombre')}\n",
    "    Precio: {producto_encontrado.get('precio')}\n",
    "    Cantidad: {producto_encontrado.get('cantidad')}''')\n",
    "else:\n",
    "    print(f'Producto con id {id_buscar} NO encontrado')\n",
    "\n",
    "# Mostrar el inventario detallado\n",
    "print(f'\\n--- Inventario Detallado ---')\n",
    "for producto in inventario:\n",
    "    print(f'''Id: {producto.get('id')}\n",
    "    Nombre: {producto.get('nombre')}\n",
    "    Precio: ${producto.get('precio'):.2f}\n",
    "    Cantidad: {producto.get('cantidad')}''')\n"
   ]
  },
  {
   "cell_type": "markdown",
   "id": "7f4f808e",
   "metadata": {},
   "source": [
    "### Pruebas rápidas\n",
    "Usa estos ejemplos para verificar comportamientos básicos. Ajusta según tus funciones."
   ]
  },
  {
   "cell_type": "code",
   "execution_count": null,
   "id": "00fa833d",
   "metadata": {},
   "outputs": [],
   "source": [
    "# Agrega aquí tus pruebas unitarias"
   ]
  },
  {
   "cell_type": "markdown",
   "id": "b7904a32",
   "metadata": {},
   "source": [
    "### Complejidad (análisis informal)\n",
    "Completa esta tabla de forma crítica, justificando cada costo.\n",
    "\n",
    "| Operación | Mejor caso | Promedio | Peor caso | Nota |\n",
    "|---|---|---|---|---|\n",
    "| op1 | O( ) | O( ) | O( ) |  |\n",
    "| op2 | O( ) | O( ) | O( ) |  |\n",
    "| op3 | O( ) | O( ) | O( ) |  |"
   ]
  },
  {
   "cell_type": "markdown",
   "id": "62945ce7",
   "metadata": {},
   "source": [
    "### Ejercicios propuestos\n",
    "1. Implementa pruebas unitarias con `pytest` para al menos 5 funciones/operaciones.\n",
    "2. Mide empíricamente tiempos (con `timeit`) al variar n, y compara con el análisis teórico.\n",
    "3. Extiende la implementación para cubrir un caso límite (overflow, colisión, degeneración, etc.).\n",
    "4. Escribe una breve reflexión: ¿en qué contextos reales usarías esta estructura sobre sus alternativas?"
   ]
  },
  {
   "cell_type": "markdown",
   "id": "72d2b474",
   "metadata": {},
   "source": [
    "### Referencias rápidas\n",
    "- Cormen, Leiserson, Rivest, Stein. *Introduction to Algorithms* (CLRS).\n",
    "- Sedgewick & Wayne. *Algorithms*.\n",
    "- Documentación oficial de Python: `collections`, `heapq`, `bisect`, `array`."
   ]
  },
  {
   "cell_type": "markdown",
   "id": "ae2c8500",
   "metadata": {},
   "source": [
    "*Fuente de código:* `15-Solucion-SistemaInventario-parte2-UP.py`  — Generado automáticamente el 2025-09-08 22:41."
   ]
  }
 ],
 "metadata": {},
 "nbformat": 4,
 "nbformat_minor": 5
}
