{
 "cells": [
  {
   "cell_type": "markdown",
   "id": "0382417c",
   "metadata": {},
   "source": [
    "# Listas (arreglos dinámicos)\n",
    "\n",
    "**Curso:** Estructuras de Datos (Ingeniería de Sistemas)\n",
    "\n",
    "**Propósito:** Comprender y aplicar las ideas clave del tema, analizando complejidad y usos prácticos."
   ]
  },
  {
   "cell_type": "markdown",
   "id": "7dc70f1a",
   "metadata": {},
   "source": [
    "### Objetivos de aprendizaje\n",
    "- Reconocer el modelo de datos y operaciones fundamentales.\n",
    "- Analizar la complejidad temporal y espacial de las operaciones clave.\n",
    "- Implementar y probar funciones en Python con casos de uso reales.\n",
    "- Comparar ventajas y limitaciones frente a alternativas.\n"
   ]
  },
  {
   "cell_type": "markdown",
   "id": "4b0b456e",
   "metadata": {},
   "source": [
    "### Teoría esencial\n",
    "\n",
    "Las listas en Python son contenedores ordenados y mutables. En estructuras de datos,\n",
    "representan arreglos dinámicos sobre un bloque contiguo de memoria con realocación amortizada.\n",
    "Operaciones típicas:\n",
    "- Acceso por índice: O(1)\n",
    "- Inserción/eliminación al final (append/pop): O(1) amortizado\n",
    "- Inserción/eliminación en posición arbitraria: O(n)\n",
    "- Búsqueda lineal: O(n)"
   ]
  },
  {
   "cell_type": "markdown",
   "id": "832a4740",
   "metadata": {},
   "source": [
    "### Guía de estudio\n",
    "- Identifica operaciones fundamentales y su costo asintótico.\n",
    "- Observa invariante(s) de la estructura (lo que siempre debe cumplirse).\n",
    "- Relaciona la estructura con patrones de uso en software (colas de trabajo, caches, planificadores, etc.)."
   ]
  },
  {
   "cell_type": "markdown",
   "id": "44cbdd3d",
   "metadata": {},
   "source": [
    "### Implementación base (desde el archivo `.py`)\n",
    "El siguiente bloque contiene el código original."
   ]
  },
  {
   "cell_type": "code",
   "execution_count": null,
   "id": "6a434e82",
   "metadata": {},
   "outputs": [],
   "source": [
    "print('*** Playlist de Canciones ***')\n",
    "\n",
    "# Creamos la lista vacia\n",
    "lista_reproduccion = []\n",
    "\n",
    "numero_canciones = int(input('Cuantas canciones deseas agregar? '))\n",
    "\n",
    "# iteramos cada elemento de la lista para agregar un nuevo elemento\n",
    "for indice in range(numero_canciones):\n",
    "    cancion = input(f'Proporciona la cancion {indice + 1}: ')\n",
    "    lista_reproduccion.append(cancion)\n",
    "\n",
    "# Ordenar la lista en orden alfabetico. sort\n",
    "#lista_reproduccion.sort(reverse=True)\n",
    "lista_reproduccion.sort()\n",
    "\n",
    "# Mostar la lista lista iterando sus elementos\n",
    "print('\\nIteramos el playlist')\n",
    "for cancion in lista_reproduccion:\n",
    "    print(f'- {cancion}')"
   ]
  },
  {
   "cell_type": "markdown",
   "id": "7bf9da26",
   "metadata": {},
   "source": [
    "### Pruebas rápidas\n",
    "Usa estos ejemplos para verificar comportamientos básicos. Ajusta según tus funciones."
   ]
  },
  {
   "cell_type": "code",
   "execution_count": null,
   "id": "14da33df",
   "metadata": {},
   "outputs": [],
   "source": [
    "# Agrega aquí tus pruebas unitarias"
   ]
  },
  {
   "cell_type": "markdown",
   "id": "0024de36",
   "metadata": {},
   "source": [
    "### Complejidad (análisis informal)\n",
    "Completa esta tabla de forma crítica, justificando cada costo.\n",
    "\n",
    "| Operación | Mejor caso | Promedio | Peor caso | Nota |\n",
    "|---|---|---|---|---|\n",
    "| op1 | O( ) | O( ) | O( ) |  |\n",
    "| op2 | O( ) | O( ) | O( ) |  |\n",
    "| op3 | O( ) | O( ) | O( ) |  |"
   ]
  },
  {
   "cell_type": "markdown",
   "id": "b70209b2",
   "metadata": {},
   "source": [
    "### Ejercicios propuestos\n",
    "1. Implementa pruebas unitarias con `pytest` para al menos 5 funciones/operaciones.\n",
    "2. Mide empíricamente tiempos (con `timeit`) al variar n, y compara con el análisis teórico.\n",
    "3. Extiende la implementación para cubrir un caso límite (overflow, colisión, degeneración, etc.).\n",
    "4. Escribe una breve reflexión: ¿en qué contextos reales usarías esta estructura sobre sus alternativas?"
   ]
  },
  {
   "cell_type": "markdown",
   "id": "e6af988d",
   "metadata": {},
   "source": [
    "### Referencias rápidas\n",
    "- Cormen, Leiserson, Rivest, Stein. *Introduction to Algorithms* (CLRS).\n",
    "- Sedgewick & Wayne. *Algorithms*.\n",
    "- Documentación oficial de Python: `collections`, `heapq`, `bisect`, `array`."
   ]
  },
  {
   "cell_type": "markdown",
   "id": "eb3617dd",
   "metadata": {},
   "source": [
    "## Soluciones a los ejercicios propuestos (Playlist)\n",
    "Ejemplos del módulo `ppython_sda.src.playlist`, benchmark y manejo de caso límite (capacidad máxima)."
   ]
  },
  {
   "cell_type": "code",
   "execution_count": null,
   "id": "edce793d",
   "metadata": {},
   "outputs": [],
   "source": [
    "from ppython_sda.src import playlist as pl\n",
    "\n",
    "p = pl.create_playlist(['Song A','Song C'])\n",
    "print('inicial ->', p)\n",
    "pl.add_song(p, 'Song B')\n",
    "print('después add ->', p)\n",
    "pl.move_song(p, 2, 1)\n",
    "print('después move ->', p)\n",
    "print('find Song C ->', pl.find_song(p, 'Song C'))\n",
    "pl.sort_playlist(p)\n",
    "print('sorted ->', p)\n",
    "\n",
    "# capacidad: intentar añadir cuando está lleno\n",
    "p2 = pl.create_playlist(['x'])\n",
    "try:\n",
    "    pl.add_song(p2, 'y', max_capacity=1)\n",
    "except pl.PlaylistFullError as e:\n",
    "    print('PlaylistFullError capturada ->', e)\n"
   ]
  },
  {
   "cell_type": "code",
   "execution_count": null,
   "id": "e32dbe35",
   "metadata": {},
   "outputs": [],
   "source": [
    "# Benchmark: add_song (amortized) vs find_song (O(n))\n",
    "import timeit\n",
    "from ppython_sda.src import playlist as pl\n",
    "\n",
    "def bench(n):\n",
    "    setup = f'from ppython_sda.src import playlist as pl; p = pl.create_playlist(list(map(str, range({n}))))'\n",
    "    r = {}\n",
    "    r['add'] = timeit.timeit('pl.add_song(p, \n",
    ")', setup=setup, number=1000) / 1000\n",
    "    r['find_nonexistent'] = timeit.timeit('pl.find_song(p, \n",
    "-1\n",
    ")', setup=setup, number=200) / 200\n",
    "    return r\n",
    "\n",
    "for n in [100, 1000, 5000]:\n",
    "    print('n=', n, bench(n))\n"
   ]
  },
  {
   "cell_type": "markdown",
   "id": "50a91589",
   "metadata": {},
   "source": [
    "### Reflexión\n",
    "- Una lista es adecuada para un playlist simple donde necesitas ordenar, buscar y reordenar canciones ocasionalmente.\n",
    "- Si las operaciones principales son inserciones/borrados frecuentes en posiciones arbitrarias o acceso concurrente, otras estructuras (linked lists, deques, bases de datos especializadas) pueden ser más apropiadas.\n",
    "- El caso de `max_capacity` simula escenarios con recursos limitados (por ejemplo, una cola con límite) donde es importante aplicar políticas de rechazo o reemplazo.\n"
   ]
  },
  {
   "cell_type": "markdown",
   "id": "8ec44866",
   "metadata": {},
   "source": [
    "*Fuente de código:* `05-Playlist-parte2-UP.py`  — Generado automáticamente el 2025-09-08 22:41."
   ]
  }
 ],
 "metadata": {
  "language_info": {
   "name": "python"
  }
 },
 "nbformat": 4,
 "nbformat_minor": 5
}
