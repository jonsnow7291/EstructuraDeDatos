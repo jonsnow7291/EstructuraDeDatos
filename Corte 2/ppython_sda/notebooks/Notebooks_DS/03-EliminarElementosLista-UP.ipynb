{
 "cells": [
  {
   "cell_type": "markdown",
   "id": "ef5d3c31",
   "metadata": {},
   "source": [
    "# Listas (arreglos dinámicos)\n",
    "\n",
    "**Curso:** Estructuras de Datos (Ingeniería de Sistemas)\n",
    "\n",
    "**Propósito:** Comprender y aplicar las ideas clave del tema, analizando complejidad y usos prácticos."
   ]
  },
  {
   "cell_type": "markdown",
   "id": "a072643a",
   "metadata": {},
   "source": [
    "### Objetivos de aprendizaje\n",
    "- Reconocer el modelo de datos y operaciones fundamentales.\n",
    "- Analizar la complejidad temporal y espacial de las operaciones clave.\n",
    "- Implementar y probar funciones en Python con casos de uso reales.\n",
    "- Comparar ventajas y limitaciones frente a alternativas.\n"
   ]
  },
  {
   "cell_type": "markdown",
   "id": "75d77f3d",
   "metadata": {},
   "source": [
    "### Teoría esencial\n",
    "\n",
    "Las listas en Python son contenedores ordenados y mutables. En estructuras de datos,\n",
    "representan arreglos dinámicos sobre un bloque contiguo de memoria con realocación amortizada.\n",
    "Operaciones típicas:\n",
    "- Acceso por índice: O(1)\n",
    "- Inserción/eliminación al final (append/pop): O(1) amortizado\n",
    "- Inserción/eliminación en posición arbitraria: O(n)\n",
    "- Búsqueda lineal: O(n)"
   ]
  },
  {
   "cell_type": "markdown",
   "id": "c793e43a",
   "metadata": {},
   "source": [
    "### Guía de estudio\n",
    "- Identifica operaciones fundamentales y su costo asintótico.\n",
    "- Observa invariante(s) de la estructura (lo que siempre debe cumplirse).\n",
    "- Relaciona la estructura con patrones de uso en software (colas de trabajo, caches, planificadores, etc.)."
   ]
  },
  {
   "cell_type": "markdown",
   "id": "776bdfd3",
   "metadata": {},
   "source": [
    "### Implementación base (desde el archivo `.py`)\n",
    "El siguiente bloque contiene el código original."
   ]
  },
  {
   "cell_type": "code",
   "execution_count": 1,
   "id": "3c5a9678",
   "metadata": {},
   "outputs": [
    {
     "name": "stdout",
     "output_type": "stream",
     "text": [
      "*** Manejo de Listas ***\n",
      "[1, 2, 3, 4, 5] -> Lista original\n",
      "Largo de la lista: 5\n",
      "Accedemos al valor del indice 4: 5\n",
      "Accedemos al valor del indice -1: 5\n",
      "Modificamos el valor del indice 1: 10\n",
      "[1, 10, 3, 4, 5, 6] -> Se agregó el elemento 6\n",
      "[1, 10, 15, 3, 4, 5, 6] -> Se añadió el valor de 15 en el índice 2\n",
      "[1, 10, 15, 3, 4, 6] -> Se removió el valor 5\n",
      "[1, 15, 3, 4, 6] -> Se eliminó el índice 1\n",
      "[1, 15, 4, 6] -> Se eliminó el índice 2\n",
      "Sublista [1:3]: [15, 4]\n"
     ]
    }
   ],
   "source": [
    "print('*** Manejo de Listas ***')\n",
    "\n",
    "mi_lista = [1, 2, 3, 4, 5]\n",
    "print(f'{mi_lista} -> Lista original')\n",
    "\n",
    "# Largo de una lista\n",
    "print(f'Largo de la lista: {len(mi_lista)}')\n",
    "\n",
    "# Acceder a los elementos de la lista por indice\n",
    "print(f'Accedemos al valor del indice 4: {mi_lista[4]}')\n",
    "print(f'Accedemos al valor del indice -1: {mi_lista[-1]}')\n",
    "\n",
    "# Modificar los elementos de una lista\n",
    "mi_lista[1] = 10\n",
    "print(f'Modificamos el valor del indice 1: {mi_lista[1]}')\n",
    "\n",
    "# Agregar un nuevo elemento al final de la lista\n",
    "mi_lista.append(6)\n",
    "print(f'{mi_lista} -> Se agregó el elemento 6')\n",
    "\n",
    "# Añadir un nuevo elemento en un indice especifico\n",
    "mi_lista.insert(2, 15)\n",
    "print(f'{mi_lista} -> Se añadió el valor de 15 en el índice 2')\n",
    "\n",
    "# Eliminar elementos de una lista\n",
    "# usando el metodo remove\n",
    "mi_lista.remove(5)\n",
    "print(f'{mi_lista} -> Se removió el valor 5')\n",
    "# Removemos por indice con el metodo pop\n",
    "mi_lista.pop(1) # Remueve el elemento del indice 1\n",
    "print(f'{mi_lista} -> Se eliminó el índice 1')\n",
    "# Eliminar usando la palabra del\n",
    "del mi_lista[2]\n",
    "print(f'{mi_lista} -> Se eliminó el índice 2')\n",
    "\n",
    "# Obtener sublistas\n",
    "sublista = mi_lista[1:3]  # genera una sublista del indice 1 al 2 (3 no se incluye)\n",
    "print(f'Sublista [1:3]: {sublista}')"
   ]
  },
  {
   "cell_type": "markdown",
   "id": "8bc9588b",
   "metadata": {},
   "source": [
    "### Pruebas rápidas\n",
    "Usa estos ejemplos para verificar comportamientos básicos. Ajusta según tus funciones."
   ]
  },
  {
   "cell_type": "code",
   "execution_count": null,
   "id": "494100c7",
   "metadata": {},
   "outputs": [],
   "source": [
    "# Agrega aquí tus pruebas unitarias"
   ]
  },
  {
   "cell_type": "markdown",
   "id": "5a9c12d9",
   "metadata": {},
   "source": [
    "### Complejidad (análisis informal)\n",
    "Completa esta tabla de forma crítica, justificando cada costo.\n",
    "\n",
    "| Operación | Mejor caso | Promedio | Peor caso | Nota |\n",
    "|---|---|---|---|---|\n",
    "| op1 | O( ) | O( ) | O( ) |  |\n",
    "| op2 | O( ) | O( ) | O( ) |  |\n",
    "| op3 | O( ) | O( ) | O( ) |  |"
   ]
  },
  {
   "cell_type": "markdown",
   "id": "ecd268db",
   "metadata": {},
   "source": [
    "### Ejercicios propuestos\n",
    "1. Implementa pruebas unitarias con `pytest` para al menos 5 funciones/operaciones.\n",
    "2. Mide empíricamente tiempos (con `timeit`) al variar n, y compara con el análisis teórico.\n",
    "3. Extiende la implementación para cubrir un caso límite (overflow, colisión, degeneración, etc.).\n",
    "4. Escribe una breve reflexión: ¿en qué contextos reales usarías esta estructura sobre sus alternativas?"
   ]
  },
  {
   "cell_type": "markdown",
   "id": "07d12bb9",
   "metadata": {},
   "source": [
    "### Referencias rápidas\n",
    "- Cormen, Leiserson, Rivest, Stein. *Introduction to Algorithms* (CLRS).\n",
    "- Sedgewick & Wayne. *Algorithms*.\n",
    "- Documentación oficial de Python: `collections`, `heapq`, `bisect`, `array`."
   ]
  },
  {
   "cell_type": "markdown",
   "id": "310b4bb7",
   "metadata": {},
   "source": [
    "## Soluciones a los ejercicios propuestos (Eliminar elementos)\n",
    "Incluye ejemplos, benchmark comparativo, manejo de casos límite y reflexión sobre uso."
   ]
  },
  {
   "cell_type": "code",
   "execution_count": null,
   "id": "42d4946d",
   "metadata": {},
   "outputs": [],
   "source": [
    "# Ejemplos de eliminación: remove, pop, safe_remove, remove_all, delete_slice\n",
    "from ppython_sda.src import list_ops as lo\n",
    "\n",
    "lst = [1, 2, 3, 2, 4, 2]\n",
    "print('lista inicial ->', lst)\n",
    "\n",
    "# remove (quita la primera ocurrencia) — puede lanzar ValueError si no existe\n",
    "lst.remove(3)\n",
    "print('después remove(3) ->', lst)\n",
    "\n",
    "# pop por índice (por defecto último)\n",
    "val = lst.pop()\n",
    "print('pop() devolvió', val, 'lista ->', lst)\n",
    "\n",
    "# safe_remove evita excepción si no existe\n",
    "ok = lo.safe_remove(lst, 100)\n",
    "print('safe_remove(100) ->', ok)\n",
    "\n",
    "# remove_all elimina todas las ocurrencias\n",
    "lst2 = [5,5,6,5,7]\n",
    "removed = lo.remove_all(lst2, 5)\n",
    "print('remove_all removed', removed, 'result ->', lst2)\n",
    "\n",
    "# delete_slice elimina un rango\n",
    "lst3 = [0,1,2,3,4,5]\n",
    "lo.delete_slice(lst3, 1, 4)\n",
    "print('delete_slice(1,4) ->', lst3)\n"
   ]
  },
  {
   "cell_type": "code",
   "execution_count": null,
   "id": "006aa9fb",
   "metadata": {},
   "outputs": [],
   "source": [
    "# Benchmark: pop() vs pop(0) vs remove in listas grandes\n",
    "import timeit\n",
    "from ppython_sda.src import list_ops as lo\n",
    "\n",
    "def bench(n):\n",
    "    setup = f'from ppython_sda.src import list_ops as lo; lst = lo.create_list({n})'\n",
    "    r = {}\n",
    "    r['pop_end'] = timeit.timeit('lst.pop()', setup=setup, number=1000) / 1000\n",
    "    r['pop0'] = timeit.timeit('lst.pop(0)', setup=setup, number=200) / 200\n",
    "    r['remove_val'] = timeit.timeit('lst.remove(0)', setup=setup, number=200) / 200\n",
    "    return r\n",
    "\n",
    "for n in [100, 1000, 5000]:\n",
    "    print('n=', n, bench(n))\n",
    "\n",
    "# Observa: pop() tiene comportamiento O(1), pop(0) y remove(0) son O(n).\n"
   ]
  },
  {
   "cell_type": "markdown",
   "id": "b9868705",
   "metadata": {},
   "source": [
    "### Caso límite y reflexión\n",
    "- Caso límite: eliminar repetidamente del inicio en una lista grande produce O(n^2) para n operaciones; en estos casos `collections.deque` es más apropiado.\n",
    "- `remove_all` es útil cuando hay duplicados y quieres compactar la lista; su costo es O(n*m) si m es número de ocurrencias, pero nuestra implementación es O(n) en la práctica porque itera una vez sobre la copia.\n",
    "- Usa `list` cuando necesites acceso aleatorio rápido y operaciones frecuentes al final; para otras necesidades (colas, borrados frecuentes al inicio) usa `deque` o estructuras especializadas.\n"
   ]
  },
  {
   "cell_type": "markdown",
   "id": "7b3f5254",
   "metadata": {},
   "source": [
    "*Fuente de código:* `03-EliminarElementosLista-UP.py`  — Generado automáticamente el 2025-09-08 22:41."
   ]
  }
 ],
 "metadata": {
  "kernelspec": {
   "display_name": ".venv",
   "language": "python",
   "name": "python3"
  },
  "language_info": {
   "codemirror_mode": {
    "name": "ipython",
    "version": 3
   },
   "file_extension": ".py",
   "mimetype": "text/x-python",
   "name": "python",
   "nbconvert_exporter": "python",
   "pygments_lexer": "ipython3",
   "version": "3.12.1"
  }
 },
 "nbformat": 4,
 "nbformat_minor": 5
}
