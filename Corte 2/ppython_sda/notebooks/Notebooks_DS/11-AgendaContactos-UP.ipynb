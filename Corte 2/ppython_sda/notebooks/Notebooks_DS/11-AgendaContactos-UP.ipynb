{
 "cells": [
  {
   "cell_type": "markdown",
   "id": "34a3fb4a",
   "metadata": {},
   "source": [
    "# 11 Agendacontactos Up\n",
    "\n",
    "**Curso:** Estructuras de Datos (Ingeniería de Sistemas)\n",
    "\n",
    "**Propósito:** Comprender y aplicar las ideas clave del tema, analizando complejidad y usos prácticos."
   ]
  },
  {
   "cell_type": "markdown",
   "id": "b988aad3",
   "metadata": {},
   "source": [
    "### Objetivos de aprendizaje\n",
    "- Reconocer el modelo de datos y operaciones fundamentales.\n",
    "- Analizar la complejidad temporal y espacial de las operaciones clave.\n",
    "- Implementar y probar funciones en Python con casos de uso reales.\n",
    "- Comparar ventajas y limitaciones frente a alternativas.\n"
   ]
  },
  {
   "cell_type": "markdown",
   "id": "cfac2646",
   "metadata": {},
   "source": [
    "### Teoría esencial\n",
    "\n",
    "Este cuaderno fue generado a partir del código fuente proporcionado.\n",
    "Relaciona el contenido con un tema del curso de Estructuras de Datos (listas, pilas, colas, árboles, grafos, hashing, ordenamiento, búsqueda, etc.).\n",
    "Identifica operaciones, invariantes y analiza su complejidad."
   ]
  },
  {
   "cell_type": "markdown",
   "id": "6d52874b",
   "metadata": {},
   "source": [
    "### Guía de estudio\n",
    "- Identifica operaciones fundamentales y su costo asintótico.\n",
    "- Observa invariante(s) de la estructura (lo que siempre debe cumplirse).\n",
    "- Relaciona la estructura con patrones de uso en software (colas de trabajo, caches, planificadores, etc.)."
   ]
  },
  {
   "cell_type": "markdown",
   "id": "91706908",
   "metadata": {},
   "source": [
    "### Implementación base (desde el archivo `.py`)\n",
    "El siguiente bloque contiene el código original."
   ]
  },
  {
   "cell_type": "code",
   "execution_count": null,
   "id": "2b188de6",
   "metadata": {},
   "outputs": [],
   "source": [
    "print('*** Agenda de Contactos ***')\n",
    "\n",
    "agenda = {\n",
    "    'Carlos': {\n",
    "        'telefono': '55667711',\n",
    "        'email': 'carlos@mail.com',\n",
    "        'direccion': 'Calle Principal 132'\n",
    "    },\n",
    "    'María': {\n",
    "        'telefono': '99887733',\n",
    "        'email': 'maria@mail.com',\n",
    "        'direccion': 'Avenida Central 456'\n",
    "    },\n",
    "    'Pedro': {\n",
    "        'telefono': '55139078',\n",
    "        'email': 'pedro@mail.com',\n",
    "        'direccion': 'Plaza Mayor 789'\n",
    "    }\n",
    "}\n",
    "\n",
    "print(agenda)\n"
   ]
  },
  {
   "cell_type": "markdown",
   "id": "fc5a7650",
   "metadata": {},
   "source": [
    "### Pruebas rápidas\n",
    "Usa estos ejemplos para verificar comportamientos básicos. Ajusta según tus funciones."
   ]
  },
  {
   "cell_type": "code",
   "execution_count": null,
   "id": "f9e5f1b7",
   "metadata": {},
   "outputs": [],
   "source": [
    "# Agrega aquí tus pruebas unitarias"
   ]
  },
  {
   "cell_type": "markdown",
   "id": "b610568d",
   "metadata": {},
   "source": [
    "### Complejidad (análisis informal)\n",
    "Completa esta tabla de forma crítica, justificando cada costo.\n",
    "\n",
    "| Operación | Mejor caso | Promedio | Peor caso | Nota |\n",
    "|---|---|---|---|---|\n",
    "| op1 | O( ) | O( ) | O( ) |  |\n",
    "| op2 | O( ) | O( ) | O( ) |  |\n",
    "| op3 | O( ) | O( ) | O( ) |  |"
   ]
  },
  {
   "cell_type": "markdown",
   "id": "10a55d5e",
   "metadata": {},
   "source": [
    "### Ejercicios propuestos\n",
    "1. Implementa pruebas unitarias con `pytest` para al menos 5 funciones/operaciones.\n",
    "2. Mide empíricamente tiempos (con `timeit`) al variar n, y compara con el análisis teórico.\n",
    "3. Extiende la implementación para cubrir un caso límite (overflow, colisión, degeneración, etc.).\n",
    "4. Escribe una breve reflexión: ¿en qué contextos reales usarías esta estructura sobre sus alternativas?"
   ]
  },
  {
   "cell_type": "markdown",
   "id": "f458a860",
   "metadata": {},
   "source": [
    "### Referencias rápidas\n",
    "- Cormen, Leiserson, Rivest, Stein. *Introduction to Algorithms* (CLRS).\n",
    "- Sedgewick & Wayne. *Algorithms*.\n",
    "- Documentación oficial de Python: `collections`, `heapq`, `bisect`, `array`."
   ]
  },
  {
   "cell_type": "markdown",
   "id": "679c35d8",
   "metadata": {},
   "source": [
    "*Fuente de código:* `11-AgendaContactos-UP.py`  — Generado automáticamente el 2025-09-08 22:41."
   ]
  }
 ],
 "metadata": {},
 "nbformat": 4,
 "nbformat_minor": 5
}
