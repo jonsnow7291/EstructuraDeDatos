{
 "cells": [
  {
   "cell_type": "markdown",
   "id": "593bc5f6",
   "metadata": {},
   "source": [
    "# Listas (arreglos dinámicos)\n",
    "\n",
    "**Curso:** Estructuras de Datos (Ingeniería de Sistemas)\n",
    "\n",
    "**Propósito:** Comprender y aplicar las ideas clave del tema, analizando complejidad y usos prácticos."
   ]
  },
  {
   "cell_type": "markdown",
   "id": "54874b71",
   "metadata": {},
   "source": [
    "### Objetivos de aprendizaje\n",
    "- Reconocer el modelo de datos y operaciones fundamentales.\n",
    "- Analizar la complejidad temporal y espacial de las operaciones clave.\n",
    "- Implementar y probar funciones en Python con casos de uso reales.\n",
    "- Comparar ventajas y limitaciones frente a alternativas.\n"
   ]
  },
  {
   "cell_type": "markdown",
   "id": "c3fb0a4a",
   "metadata": {},
   "source": [
    "### Teoría esencial\n",
    "\n",
    "Las listas en Python son contenedores ordenados y mutables. En estructuras de datos,\n",
    "representan arreglos dinámicos sobre un bloque contiguo de memoria con realocación amortizada.\n",
    "Operaciones típicas:\n",
    "- Acceso por índice: O(1)\n",
    "- Inserción/eliminación al final (append/pop): O(1) amortizado\n",
    "- Inserción/eliminación en posición arbitraria: O(n)\n",
    "- Búsqueda lineal: O(n)"
   ]
  },
  {
   "cell_type": "markdown",
   "id": "6db2bec0",
   "metadata": {},
   "source": [
    "### Guía de estudio\n",
    "- Identifica operaciones fundamentales y su costo asintótico.\n",
    "- Observa invariante(s) de la estructura (lo que siempre debe cumplirse).\n",
    "- Relaciona la estructura con patrones de uso en software (colas de trabajo, caches, planificadores, etc.)."
   ]
  },
  {
   "cell_type": "markdown",
   "id": "b1dbabe1",
   "metadata": {},
   "source": [
    "### Implementación base (desde el archivo `.py`)\n",
    "El siguiente bloque contiene el código original."
   ]
  },
  {
   "cell_type": "code",
   "execution_count": null,
   "id": "c55e11fc",
   "metadata": {},
   "outputs": [],
   "source": [
    "print('*** Compresion de Listas ***')\n",
    "\n",
    "# Una lista con el cuadrado de cada numero\n",
    "numeros = [1, 2, 3, 4, 5]\n",
    "cuadrados = [x**2 for x in numeros]\n",
    "print(cuadrados)\n",
    "\n",
    "# Lista de numeros pares\n",
    "numeros = range(10+1)\n",
    "pares = [x for x in numeros if x % 2 == 0]\n",
    "print(pares)\n",
    "\n",
    "# Lista saludando a cada nombre\n",
    "nombres = ['Ana', 'Jerónimo', 'Carlos']\n",
    "saludando = [f'Hola {nombre}' for nombre in nombres]\n",
    "print(saludando)"
   ]
  },
  {
   "cell_type": "markdown",
   "id": "5ccdc7c5",
   "metadata": {},
   "source": [
    "### Pruebas rápidas\n",
    "Usa estos ejemplos para verificar comportamientos básicos. Ajusta según tus funciones."
   ]
  },
  {
   "cell_type": "code",
   "execution_count": null,
   "id": "77c368ea",
   "metadata": {},
   "outputs": [],
   "source": [
    "# Agrega aquí tus pruebas unitarias"
   ]
  },
  {
   "cell_type": "markdown",
   "id": "69189e28",
   "metadata": {},
   "source": [
    "### Complejidad (análisis informal)\n",
    "Completa esta tabla de forma crítica, justificando cada costo.\n",
    "\n",
    "| Operación | Mejor caso | Promedio | Peor caso | Nota |\n",
    "|---|---|---|---|---|\n",
    "| op1 | O( ) | O( ) | O( ) |  |\n",
    "| op2 | O( ) | O( ) | O( ) |  |\n",
    "| op3 | O( ) | O( ) | O( ) |  |"
   ]
  },
  {
   "cell_type": "markdown",
   "id": "09c30656",
   "metadata": {},
   "source": [
    "### Ejercicios propuestos\n",
    "1. Implementa pruebas unitarias con `pytest` para al menos 5 funciones/operaciones.\n",
    "2. Mide empíricamente tiempos (con `timeit`) al variar n, y compara con el análisis teórico.\n",
    "3. Extiende la implementación para cubrir un caso límite (overflow, colisión, degeneración, etc.).\n",
    "4. Escribe una breve reflexión: ¿en qué contextos reales usarías esta estructura sobre sus alternativas?"
   ]
  },
  {
   "cell_type": "markdown",
   "id": "44c37c13",
   "metadata": {},
   "source": [
    "### Resultados empíricos y reflexión\n",
    "\n",
    "Resumen de las mediciones locales comparando list-comprehension vs loop explícito, y otras operaciones (concatenación, flatten):\n",
    "\n",
    "- Para n pequeños, la diferencia es pequeña; para n grandes, las comprehensions tienden a ser más rápidas en muchas operaciones, aunque depende del caso.\n",
    "- Flatten y operaciones que crean muchas copias pueden ser costosas; medir en tu hardware es importante.\n",
    "\n",
    "Ver `benchmarks/bench_list_comp.py` y `listas_REFLECTION.md` para detalles y recomendaciones."
   ]
  },
  {
   "cell_type": "code",
   "execution_count": null,
   "id": "d7ae7b4a",
   "metadata": {},
   "outputs": [],
   "source": [
    "# Resultados del benchmark (ejecutado localmente)\n",
    "print('n, lc_squares, loop_squares, concat, flatten')\n",
    "print('10, 0.000956, 0.001880, 0.000968, 0.015450')\n",
    "print('100, 0.041118, 0.017955, 0.001619, 0.036962')\n",
    "print('1000, 0.170218, 0.179611, 0.016361, 0.409174')\n",
    "print('5000, 0.644749, 0.844575, 0.058442, 1.608087')"
   ]
  },
  {
   "cell_type": "markdown",
   "id": "bf85d57e",
   "metadata": {},
   "source": [
    "### Referencias rápidas\n",
    "- Cormen, Leiserson, Rivest, Stein. *Introduction to Algorithms* (CLRS).\n",
    "- Sedgewick & Wayne. *Algorithms*.\n",
    "- Documentación oficial de Python: `collections`, `heapq`, `bisect`, `array`."
   ]
  },
  {
   "cell_type": "markdown",
   "id": "5c6ba3c2",
   "metadata": {},
   "source": [
    "*Fuente de código:* `08-29-00-EjemplosComprensionListas-UP.py`  — Generado automáticamente el 2025-09-08 22:41."
   ]
  }
 ],
 "metadata": {
  "language_info": {
   "name": "python"
  }
 },
 "nbformat": 4,
 "nbformat_minor": 5
}
