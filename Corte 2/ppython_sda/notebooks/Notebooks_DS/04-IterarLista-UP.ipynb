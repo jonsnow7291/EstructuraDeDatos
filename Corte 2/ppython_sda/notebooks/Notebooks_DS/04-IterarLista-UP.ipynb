{
 "cells": [
  {
   "cell_type": "markdown",
   "id": "607e3f4c",
   "metadata": {},
   "source": [
    "# Listas (arreglos dinámicos)\n",
    "\n",
    "**Curso:** Estructuras de Datos (Ingeniería de Sistemas)\n",
    "\n",
    "**Propósito:** Comprender y aplicar las ideas clave del tema, analizando complejidad y usos prácticos."
   ]
  },
  {
   "cell_type": "markdown",
   "id": "9717cff1",
   "metadata": {},
   "source": [
    "### Objetivos de aprendizaje\n",
    "- Reconocer el modelo de datos y operaciones fundamentales.\n",
    "- Analizar la complejidad temporal y espacial de las operaciones clave.\n",
    "- Implementar y probar funciones en Python con casos de uso reales.\n",
    "- Comparar ventajas y limitaciones frente a alternativas.\n"
   ]
  },
  {
   "cell_type": "markdown",
   "id": "da2a2d72",
   "metadata": {},
   "source": [
    "### Teoría esencial\n",
    "\n",
    "Las listas en Python son contenedores ordenados y mutables. En estructuras de datos,\n",
    "representan arreglos dinámicos sobre un bloque contiguo de memoria con realocación amortizada.\n",
    "Operaciones típicas:\n",
    "- Acceso por índice: O(1)\n",
    "- Inserción/eliminación al final (append/pop): O(1) amortizado\n",
    "- Inserción/eliminación en posición arbitraria: O(n)\n",
    "- Búsqueda lineal: O(n)"
   ]
  },
  {
   "cell_type": "markdown",
   "id": "2523af8c",
   "metadata": {},
   "source": [
    "### Guía de estudio\n",
    "- Identifica operaciones fundamentales y su costo asintótico.\n",
    "- Observa invariante(s) de la estructura (lo que siempre debe cumplirse).\n",
    "- Relaciona la estructura con patrones de uso en software (colas de trabajo, caches, planificadores, etc.)."
   ]
  },
  {
   "cell_type": "markdown",
   "id": "ebe23080",
   "metadata": {},
   "source": [
    "### Implementación base (desde el archivo `.py`)\n",
    "El siguiente bloque contiene el código original."
   ]
  },
  {
   "cell_type": "code",
   "execution_count": 1,
   "id": "31b74a3f",
   "metadata": {},
   "outputs": [
    {
     "name": "stdout",
     "output_type": "stream",
     "text": [
      "*** Iterar Listas ***\n",
      "Karla\n",
      "Juan\n",
      "Laura\n",
      "\n",
      "100\n",
      "True\n",
      "Ivonne\n"
     ]
    }
   ],
   "source": [
    "print(f'*** Iterar Listas ***')\n",
    "\n",
    "nombres = ['Karla', 'Juan', 'Laura']\n",
    "\n",
    "for nombre in nombres:\n",
    "    print(nombre)\n",
    "\n",
    "lista_heterogenea = [100, True, 'Ivonne']\n",
    "print()\n",
    "for elemento in lista_heterogenea:\n",
    "    print(elemento)"
   ]
  },
  {
   "cell_type": "markdown",
   "id": "456c7521",
   "metadata": {},
   "source": [
    "### Pruebas rápidas\n",
    "Usa estos ejemplos para verificar comportamientos básicos. Ajusta según tus funciones."
   ]
  },
  {
   "cell_type": "code",
   "execution_count": null,
   "id": "91e0063e",
   "metadata": {},
   "outputs": [],
   "source": [
    "# Agrega aquí tus pruebas unitarias"
   ]
  },
  {
   "cell_type": "markdown",
   "id": "7a753816",
   "metadata": {},
   "source": [
    "### Complejidad (análisis informal)\n",
    "Completa esta tabla de forma crítica, justificando cada costo.\n",
    "\n",
    "| Operación | Mejor caso | Promedio | Peor caso | Nota |\n",
    "|---|---|---|---|---|\n",
    "| op1 | O( ) | O( ) | O( ) |  |\n",
    "| op2 | O( ) | O( ) | O( ) |  |\n",
    "| op3 | O( ) | O( ) | O( ) |  |"
   ]
  },
  {
   "cell_type": "markdown",
   "id": "77b02e2c",
   "metadata": {},
   "source": [
    "### Ejercicios propuestos\n",
    "1. Implementa pruebas unitarias con `pytest` para al menos 5 funciones/operaciones.\n",
    "2. Mide empíricamente tiempos (con `timeit`) al variar n, y compara con el análisis teórico.\n",
    "3. Extiende la implementación para cubrir un caso límite (overflow, colisión, degeneración, etc.).\n",
    "4. Escribe una breve reflexión: ¿en qué contextos reales usarías esta estructura sobre sus alternativas?"
   ]
  },
  {
   "cell_type": "markdown",
   "id": "195b1d85",
   "metadata": {},
   "source": [
    "### Referencias rápidas\n",
    "- Cormen, Leiserson, Rivest, Stein. *Introduction to Algorithms* (CLRS).\n",
    "- Sedgewick & Wayne. *Algorithms*.\n",
    "- Documentación oficial de Python: `collections`, `heapq`, `bisect`, `array`."
   ]
  },
  {
   "cell_type": "markdown",
   "id": "c6c7a7e8",
   "metadata": {},
   "source": [
    "## Soluciones a los ejercicios propuestos (Iterar listas)\n",
    "Incluye ejemplos de helpers de iteración, benchmark comparativo y el caso límite de modificar mientras se itera."
   ]
  },
  {
   "cell_type": "code",
   "execution_count": null,
   "id": "9f313939",
   "metadata": {},
   "outputs": [],
   "source": [
    "# Ejemplos: iterate_apply, enumerate_list, find_duplicates, filter_list\n",
    "from ppython_sda.src import list_ops as lo\n",
    "\n",
    "lst = [1, 2, 2, 3, 4]\n",
    "print('original ->', lst)\n",
    "print('iterate_apply *2 ->', lo.iterate_apply(lst, lambda x: x * 2))\n",
    "print('enumerate_list ->', lo.enumerate_list(['a','b']))\n",
    "print('find_duplicates ->', lo.find_duplicates([1,2,2,3,3]))\n",
    "print('filter odd ->', lo.filter_list(lst, lambda x: x % 2 == 1))\n",
    "\n",
    "# safe_modify_by_copy: modificar mientras evitamos problemas\n",
    "t = [1,2,3]\n",
    "lo.safe_modify_by_copy(t, lambda x: x + 10)\n",
    "print('safe_modify_by_copy result ->', t)\n"
   ]
  },
  {
   "cell_type": "code",
   "execution_count": null,
   "id": "2179775e",
   "metadata": {},
   "outputs": [],
   "source": [
    "# Benchmark: for-loop vs list comprehension vs map (aplicar función simple)\n",
    "import timeit\n",
    "from ppython_sda.src import list_ops as lo\n",
    "\n",
    "def bench_apply(n):\n",
    "    setup = f'from ppython_sda.src import list_ops as lo; lst = lo.create_list({n}); f = lambda x: x+1'\n",
    "    r = {}\n",
    "    r['for_loop'] = timeit.timeit('[f(x) for x in lst]', setup=setup, number=1000) / 1000\n",
    "    r['list_comp'] = timeit.timeit('result = [f(x) for x in lst]', setup=setup, number=1000) / 1000\n",
    "    r['map'] = timeit.timeit('list(map(f, lst))', setup=setup, number=1000) / 1000\n",
    "    return r\n",
    "\n",
    "for n in [100, 1000, 5000]:\n",
    "    print('n=', n, bench_apply(n))\n",
    "\n",
    "# Observa: list comprehensions suelen ser tan rápidas o más rápidas que map/for loops en CPython para funciones simples.\n"
   ]
  },
  {
   "cell_type": "markdown",
   "id": "99452c1a",
   "metadata": {},
   "source": [
    "### Caso límite: modificar la lista durante la iteración\n",
    "Modificar la lista mientras se itera puede provocar comportamiento inesperado o saltarse elementos. La función `safe_modify_by_copy` demuestra una forma segura de hacerlo: iterar sobre una copia y modificar la original.\n",
    "\n",
    "### Reflexión\n",
    "- Usa listas cuando necesites iteraciones simples y acceso por índice; las comprehensions son limpias y eficientes en Python.\n",
    "- Para procesamiento en streaming o cuando quieras evitar copiar grandes listas, considera generadores o `itertools`.\n",
    "- Para paralelismo/colecciones muy grandes, explora frameworks de procesamiento por lotes o estructuras que soporten segmentación/particionado.\n"
   ]
  },
  {
   "cell_type": "markdown",
   "id": "7ee82f0b",
   "metadata": {},
   "source": [
    "*Fuente de código:* `04-IterarLista-UP.py`  — Generado automáticamente el 2025-09-08 22:41."
   ]
  }
 ],
 "metadata": {
  "kernelspec": {
   "display_name": ".venv",
   "language": "python",
   "name": "python3"
  },
  "language_info": {
   "codemirror_mode": {
    "name": "ipython",
    "version": 3
   },
   "file_extension": ".py",
   "mimetype": "text/x-python",
   "name": "python",
   "nbconvert_exporter": "python",
   "pygments_lexer": "ipython3",
   "version": "3.12.1"
  }
 },
 "nbformat": 4,
 "nbformat_minor": 5
}
