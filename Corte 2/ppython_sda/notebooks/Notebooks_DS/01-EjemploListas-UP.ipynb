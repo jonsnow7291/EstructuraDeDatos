{
 "cells": [
  {
   "cell_type": "markdown",
   "id": "c9d22cc9",
   "metadata": {},
   "source": [
    "# Listas (arreglos dinámicos)\n",
    "\n",
    "**Curso:** Estructuras de Datos (Ingeniería de Sistemas)\n",
    "\n",
    "**Propósito:** Comprender y aplicar las ideas clave del tema, analizando complejidad y usos prácticos."
   ]
  },
  {
   "cell_type": "markdown",
   "id": "0cc85ac5",
   "metadata": {},
   "source": [
    "### Objetivos de aprendizaje\n",
    "- Reconocer el modelo de datos y operaciones fundamentales.\n",
    "- Analizar la complejidad temporal y espacial de las operaciones clave.\n",
    "- Implementar y probar funciones en Python con casos de uso reales.\n",
    "- Comparar ventajas y limitaciones frente a alternativas.\n"
   ]
  },
  {
   "cell_type": "markdown",
   "id": "3a653e1f",
   "metadata": {},
   "source": [
    "### Teoría esencial\n",
    "\n",
    "Las listas en Python son contenedores ordenados y mutables. En estructuras de datos,\n",
    "representan arreglos dinámicos sobre un bloque contiguo de memoria con realocación amortizada.\n",
    "Operaciones típicas:\n",
    "- Acceso por índice: O(1)\n",
    "- Inserción/eliminación al final (append/pop): O(1) amortizado\n",
    "- Inserción/eliminación en posición arbitraria: O(n)\n",
    "- Búsqueda lineal: O(n)"
   ]
  },
  {
   "cell_type": "markdown",
   "id": "7f76515a",
   "metadata": {},
   "source": [
    "### Guía de estudio\n",
    "- Identifica operaciones fundamentales y su costo asintótico.\n",
    "- Observa invariante(s) de la estructura (lo que siempre debe cumplirse).\n",
    "- Relaciona la estructura con patrones de uso en software (colas de trabajo, caches, planificadores, etc.)."
   ]
  },
  {
   "cell_type": "markdown",
   "id": "f7a7f323",
   "metadata": {},
   "source": [
    "### Implementación base (desde el archivo `.py`)\n",
    "El siguiente bloque contiene el código original."
   ]
  },
  {
   "cell_type": "code",
   "execution_count": 1,
   "id": "b34fefa3",
   "metadata": {},
   "outputs": [
    {
     "name": "stdout",
     "output_type": "stream",
     "text": [
      "*** Manejo de Listas ***\n",
      "[1, 2, 3, 4, 5] -> Lista original\n",
      "Largo de la lista: 5\n",
      "Accedemos al valor del indice 4: 5\n",
      "Accedemos al valor del indice -1: 5\n"
     ]
    }
   ],
   "source": [
    "print('*** Manejo de Listas ***')\n",
    "\n",
    "mi_lista = [1, 2, 3, 4, 5]\n",
    "print(f'{mi_lista} -> Lista original')\n",
    "\n",
    "# Largo de una lista\n",
    "print(f'Largo de la lista: {len(mi_lista)}')\n",
    "\n",
    "# Acceder a los elementos de la lista por indice\n",
    "print(f'Accedemos al valor del indice 4: {mi_lista[4]}')\n",
    "print(f'Accedemos al valor del indice -1: {mi_lista[-1]}')"
   ]
  },
  {
   "cell_type": "markdown",
   "id": "7aaa4f88",
   "metadata": {},
   "source": [
    "### Pruebas rápidas\n",
    "Usa estos ejemplos para verificar comportamientos básicos. Ajusta según tus funciones."
   ]
  },
  {
   "cell_type": "code",
   "execution_count": null,
   "id": "1d7ef490",
   "metadata": {},
   "outputs": [],
   "source": [
    "# Agrega aquí tus pruebas unitarias"
   ]
  },
  {
   "cell_type": "markdown",
   "id": "974839c0",
   "metadata": {},
   "source": [
    "### Complejidad (análisis informal)\n",
    "Completa esta tabla de forma crítica, justificando cada costo.\n",
    "\n",
    "| Operación | Mejor caso | Promedio | Peor caso | Nota |\n",
    "|---|---|---|---|---|\n",
    "| op1 | O( ) | O( ) | O( ) |  |\n",
    "| op2 | O( ) | O( ) | O( ) |  |\n",
    "| op3 | O( ) | O( ) | O( ) |  |"
   ]
  },
  {
   "cell_type": "markdown",
   "id": "1e9a8585",
   "metadata": {},
   "source": [
    "### Ejercicios propuestos\n",
    "1. Implementa pruebas unitarias con `pytest` para al menos 5 funciones/operaciones.\n",
    "2. Mide empíricamente tiempos (con `timeit`) al variar n, y compara con el análisis teórico.\n",
    "3. Extiende la implementación para cubrir un caso límite (overflow, colisión, degeneración, etc.).\n",
    "4. Escribe una breve reflexión: ¿en qué contextos reales usarías esta estructura sobre sus alternativas?"
   ]
  },
  {
   "cell_type": "markdown",
   "id": "f083e8cf",
   "metadata": {},
   "source": [
    "### Referencias rápidas\n",
    "- Cormen, Leiserson, Rivest, Stein. *Introduction to Algorithms* (CLRS).\n",
    "- Sedgewick & Wayne. *Algorithms*.\n",
    "- Documentación oficial de Python: `collections`, `heapq`, `bisect`, `array`."
   ]
  },
  {
   "cell_type": "markdown",
   "id": "b25f90ca",
   "metadata": {},
   "source": [
    "## Soluciones a los ejercicios propuestos\n",
    "A continuación se incluyen:\n",
    "- Un módulo auxiliar `list_ops` con funciones para operar sobre listas (implementación simple).\n",
    "- Pruebas unitarias con `pytest` (archivo de tests en el proyecto).\n",
    "- Un script de benchmarking con `timeit` que compara tiempos en función de n.\n",
    "- Manejo de un caso límite y una reflexión corta sobre cuándo preferir listas.\n"
   ]
  },
  {
   "cell_type": "code",
   "execution_count": null,
   "id": "fe6a0dad",
   "metadata": {},
   "outputs": [],
   "source": [
    "# Ejemplo de uso rápido del módulo list_ops (ver src/list_ops.py)\n",
    "from ppython_sda.src import list_ops as lo  # import relativo al paquete del taller si se usa como paquete\n",
    "\n",
    "lst = lo.create_list(5)\n",
    "print('lista inicial:', lst)\n",
    "lo.append_element(lst, 99)\n",
    "print('después append:', lst)\n",
    "print('acceso índice 2 ->', lo.access_index(lst, 2))\n",
    "print('buscar 99 ->', lo.find_value(lst, 99))\n",
    "# demostración de inserción segura fuera de rango (se ajusta al final)\n",
    "lo.safe_insert(lst, 1000, idx=100)\n",
    "print('después safe_insert fuera de rango ->', lst)\n"
   ]
  },
  {
   "cell_type": "code",
   "execution_count": null,
   "id": "ddb898c8",
   "metadata": {},
   "outputs": [],
   "source": [
    "# Benchmark simple con timeit: compara append vs insert(0) vs pop() vs pop(0) vs búsqueda\n",
    "import timeit\n",
    "from ppython_sda.src import list_ops as lo\n",
    "\n",
    "def bench_for_n(n, repeats=3):\n",
    "    setup = f'from ppython_sda.src import list_ops as lo; lst = lo.create_list({n})'\n",
    "    results = {}\n",
    "    # append (amortizado O(1))\n",
    "    results['append'] = timeit.timeit('lo.append_element(lst, 42)', setup=setup, number=1000) / 1000\n",
    "    # insert at 0 (O(n))\n",
    "    results['insert0'] = timeit.timeit('lo.safe_insert(lst, 42, idx=0)', setup=setup, number=500) / 500\n",
    "    # pop end (O(1))\n",
    "    results['pop_end'] = timeit.timeit('lo.pop_element(lst)', setup=setup, number=1000) / 1000\n",
    "    # pop 0 (O(n))\n",
    "    results['pop0'] = timeit.timeit('lst.pop(0)', setup=setup, number=500) / 500\n",
    "    # access by index (O(1))\n",
    "    results['access'] = timeit.timeit('lo.access_index(lst, 0)', setup=setup, number=10000) / 10000\n",
    "    # search (O(n))\n",
    "    results['search'] = timeit.timeit('lo.find_value(lst, -1)', setup=setup, number=200) / 200\n",
    "    return results\n",
    "\n",
    "for n in [100, 1000, 5000]:\n",
    "    r = bench_for_n(n)\n",
    "    print(f'n={n}:', r)\n"
   ]
  },
  {
   "cell_type": "markdown",
   "id": "5a064ab2",
   "metadata": {},
   "source": [
    "### Reflexión corta\n",
    "Las listas de Python son excelentes cuando se necesita acceso por índice rápido y operaciones frecuentes al final. Para inserciones/eliminaciones frecuentes al inicio o en medio, estructuras como `deque` o `linked lists` (según el caso) resultan mejores. Las listas son la estructura por defecto en Python por su simplicidad y rendimiento amortizado para append/pop al final."
   ]
  }
 ],
 "metadata": {
  "kernelspec": {
   "display_name": ".venv",
   "language": "python",
   "name": "python3"
  },
  "language_info": {
   "codemirror_mode": {
    "name": "ipython",
    "version": 3
   },
   "file_extension": ".py",
   "mimetype": "text/x-python",
   "name": "python",
   "nbconvert_exporter": "python",
   "pygments_lexer": "ipython3",
   "version": "3.12.1"
  }
 },
 "nbformat": 4,
 "nbformat_minor": 5
}
