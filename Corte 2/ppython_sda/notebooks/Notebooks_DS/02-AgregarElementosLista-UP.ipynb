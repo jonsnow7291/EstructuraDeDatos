{
 "cells": [
  {
   "cell_type": "markdown",
   "id": "2ed14f85",
   "metadata": {},
   "source": [
    "# Listas (arreglos dinámicos)\n",
    "\n",
    "**Curso:** Estructuras de Datos (Ingeniería de Sistemas)\n",
    "\n",
    "**Propósito:** Comprender y aplicar las ideas clave del tema, analizando complejidad y usos prácticos."
   ]
  },
  {
   "cell_type": "markdown",
   "id": "30e91a65",
   "metadata": {},
   "source": [
    "### Objetivos de aprendizaje\n",
    "- Reconocer el modelo de datos y operaciones fundamentales.\n",
    "- Analizar la complejidad temporal y espacial de las operaciones clave.\n",
    "- Implementar y probar funciones en Python con casos de uso reales.\n",
    "- Comparar ventajas y limitaciones frente a alternativas.\n"
   ]
  },
  {
   "cell_type": "markdown",
   "id": "906f3930",
   "metadata": {},
   "source": [
    "### Teoría esencial\n",
    "\n",
    "Las listas en Python son contenedores ordenados y mutables. En estructuras de datos,\n",
    "representan arreglos dinámicos sobre un bloque contiguo de memoria con realocación amortizada.\n",
    "Operaciones típicas:\n",
    "- Acceso por índice: O(1)\n",
    "- Inserción/eliminación al final (append/pop): O(1) amortizado\n",
    "- Inserción/eliminación en posición arbitraria: O(n)\n",
    "- Búsqueda lineal: O(n)"
   ]
  },
  {
   "cell_type": "markdown",
   "id": "302807fd",
   "metadata": {},
   "source": [
    "### Guía de estudio\n",
    "- Identifica operaciones fundamentales y su costo asintótico.\n",
    "- Observa invariante(s) de la estructura (lo que siempre debe cumplirse).\n",
    "- Relaciona la estructura con patrones de uso en software (colas de trabajo, caches, planificadores, etc.)."
   ]
  },
  {
   "cell_type": "markdown",
   "id": "f3195b91",
   "metadata": {},
   "source": [
    "### Implementación base (desde el archivo `.py`)\n",
    "El siguiente bloque contiene el código original."
   ]
  },
  {
   "cell_type": "code",
   "execution_count": null,
   "id": "6fedda60",
   "metadata": {},
   "outputs": [],
   "source": [
    "print('*** Manejo de Listas ***')\n",
    "\n",
    "mi_lista = [1, 2, 3, 4, 5]\n",
    "print(f'{mi_lista} -> Lista original')\n",
    "\n",
    "# Largo de una lista\n",
    "print(f'Largo de la lista: {len(mi_lista)}')\n",
    "\n",
    "# Acceder a los elementos de la lista por indice\n",
    "print(f'Accedemos al valor del indice 4: {mi_lista[4]}')\n",
    "print(f'Accedemos al valor del indice -1: {mi_lista[-1]}')\n",
    "\n",
    "# Modificar los elementos de una lista\n",
    "mi_lista[1] = 10\n",
    "print(f'Modificamos el valor del indice 1: {mi_lista[1]}')\n",
    "\n",
    "# Agregar un nuevo elemento al final de la lista\n",
    "mi_lista.append(6)\n",
    "print(f'{mi_lista} -> Se agregó el elemento 6')\n",
    "\n",
    "# Añadir un nuevo elemento en un indice especifico\n",
    "mi_lista.insert(2, 15)\n",
    "print(f'{mi_lista} -> Se añadió el valor de 15 en el índice 2')"
   ]
  },
  {
   "cell_type": "markdown",
   "id": "7a1bf2b6",
   "metadata": {},
   "source": [
    "### Pruebas rápidas\n",
    "Usa estos ejemplos para verificar comportamientos básicos. Ajusta según tus funciones."
   ]
  },
  {
   "cell_type": "code",
   "execution_count": null,
   "id": "a8a11105",
   "metadata": {},
   "outputs": [],
   "source": [
    "# Agrega aquí tus pruebas unitarias"
   ]
  },
  {
   "cell_type": "markdown",
   "id": "1561108c",
   "metadata": {},
   "source": [
    "### Complejidad (análisis informal)\n",
    "Completa esta tabla de forma crítica, justificando cada costo.\n",
    "\n",
    "| Operación | Mejor caso | Promedio | Peor caso | Nota |\n",
    "|---|---|---|---|---|\n",
    "| op1 | O( ) | O( ) | O( ) |  |\n",
    "| op2 | O( ) | O( ) | O( ) |  |\n",
    "| op3 | O( ) | O( ) | O( ) |  |"
   ]
  },
  {
   "cell_type": "markdown",
   "id": "b06ff36d",
   "metadata": {},
   "source": [
    "### Ejercicios propuestos\n",
    "1. Implementa pruebas unitarias con `pytest` para al menos 5 funciones/operaciones.\n",
    "2. Mide empíricamente tiempos (con `timeit`) al variar n, y compara con el análisis teórico.\n",
    "3. Extiende la implementación para cubrir un caso límite (overflow, colisión, degeneración, etc.).\n",
    "4. Escribe una breve reflexión: ¿en qué contextos reales usarías esta estructura sobre sus alternativas?"
   ]
  },
  {
   "cell_type": "markdown",
   "id": "9bdb65c5",
   "metadata": {},
   "source": [
    "### Referencias rápidas\n",
    "- Cormen, Leiserson, Rivest, Stein. *Introduction to Algorithms* (CLRS).\n",
    "- Sedgewick & Wayne. *Algorithms*.\n",
    "- Documentación oficial de Python: `collections`, `heapq`, `bisect`, `array`."
   ]
  },
  {
   "cell_type": "markdown",
   "id": "62854064",
   "metadata": {},
   "source": [
    "## Soluciones a los ejercicios propuestos\n",
    "Aquí se incluyen ejemplos de uso, un micro-benchmark, cobertura del caso límite (capacidad máxima) y una breve reflexión.\n",
    "Los ejemplos usan el módulo `ppython_sda.src.list_ops` (archivo `src/list_ops.py`)."
   ]
  },
  {
   "cell_type": "code",
   "execution_count": null,
   "id": "2b2e4b37",
   "metadata": {},
   "outputs": [],
   "source": [
    "# Ejemplos prácticos: append, insert seguro y append con límite (caso límite)\n",
    "from ppython_sda.src import list_ops as lo\n",
    "\n",
    "# crear lista base\n",
    "lst = lo.create_list(5)\n",
    "print('lista original ->', lst)\n",
    "\n",
    "# append (amortizado O(1))\n",
    "lo.append_element(lst, 10)\n",
    "print('después append ->', lst)\n",
    "\n",
    "# insert en posición específica (O(n)) usando safe_insert\n",
    "lo.safe_insert(lst, 99, idx=2)\n",
    "print('después safe_insert idx=2 ->', lst)\n",
    "\n",
    "# append_with_limit: demostrar comportamiento OK y excepción cuando se sobrepasa el límite\n",
    "small = lo.create_list(2)\n",
    "print('small antes ->', small)\n",
    "lo.append_with_limit(small, 'a', max_capacity=3)\n",
    "print('small después append_with_limit (cap 3) ->', small)\n",
    "try:\n",
    "    lo.append_with_limit(small, 'b', max_capacity=3)\n",
    "except lo.MaxCapacityError as e:\n",
    "    print('MaxCapacityError capturada:', e)\n",
    "\n",
    "# caso límite: insertar en lista vacía con safe_insert\n",
    "empty = lo.create_list(0)\n",
    "lo.safe_insert(empty, 'x', idx=10)\n",
    "print('empty after safe_insert ->', empty)\n"
   ]
  },
  {
   "cell_type": "code",
   "execution_count": null,
   "id": "7d12146d",
   "metadata": {},
   "outputs": [],
   "source": [
    "# Micro-benchmark: comparar append vs insert(0) vs insert(mid) con timeit\n",
    "import timeit\n",
    "from ppython_sda.src import list_ops as lo\n",
    "\n",
    "def bench(n):\n",
    "    setup = f'from ppython_sda.src import list_ops as lo; lst = lo.create_list({n})'\n",
    "    r = {}\n",
    "    r['append'] = timeit.timeit('lo.append_element(lst, 1)', setup=setup, number=1000) / 1000\n",
    "    r['insert0'] = timeit.timeit('lst.insert(0, 1)', setup=setup, number=200) / 200\n",
    "    r['insert_mid'] = timeit.timeit('lst.insert(len(lst)//2, 1)', setup=setup, number=200) / 200\n",
    "    return r\n",
    "\n",
    "for n in [100, 1000, 5000]:\n",
    "    print(f'n={n}:', bench(n))\n",
    "\n",
    "# Observa: 'append' debería variar muy poco con n (O(1) amortizado),\n",
    "# mientras que insert(0) e insert_mid aumentan con n (O(n)).\n"
   ]
  },
  {
   "cell_type": "markdown",
   "id": "7d8bc7b2",
   "metadata": {},
   "source": [
    "### Reflexión corta\n",
    "- Usa `list` cuando necesites acceso por índice O(1) y operaciones frecuentes al final (append/pop).\n",
    "- Para inserciones/elim. frecuentes al inicio, `collections.deque` suele ser más eficiente (O(1) en ambos extremos).\n",
    "- Si el uso requiere búsquedas frecuentes por valor, considera `set` o `dict` para búsquedas O(1).\n",
    "- El caso límite que implementamos (`append_with_limit`) simula escenarios con recursos limitados (por ejemplo, buffers con capacidad máxima) donde es preferible controlar la política de escritura en vez de permitir crecimiento ilimitado.\n"
   ]
  },
  {
   "cell_type": "markdown",
   "id": "2ae185e8",
   "metadata": {},
   "source": [
    "### Cómo ejecutar las pruebas y el benchmark\n",
    "- Con `pytest` (recomendado): desde la carpeta del taller ejecuta `pytest -q`.\n",
    "- Sin pytest: puedes ejecutar `python tests/run_smoke_tests.py` (runner ligero incluido).\n",
    "- Benchmark: `python benchmarks/bench_list_ops.py` o ejecutar la celda de benchmark en este notebook.\n"
   ]
  },
  {
   "cell_type": "markdown",
   "id": "6e6e9667",
   "metadata": {},
   "source": [
    "*Fuente de código:* `02-AgregarElementosLista-UP.py`  — Generado automáticamente el 2025-09-08 22:41."
   ]
  }
 ],
 "metadata": {
  "language_info": {
   "name": "python"
  }
 },
 "nbformat": 4,
 "nbformat_minor": 5
}
