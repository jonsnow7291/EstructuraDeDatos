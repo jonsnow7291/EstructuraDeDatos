{
 "cells": [
  {
   "cell_type": "markdown",
   "id": "b795ed35",
   "metadata": {},
   "source": [
    "# Conjuntos (HashSet)\n",
    "\n",
    "**Curso:** Estructuras de Datos (Ingeniería de Sistemas)\n",
    "\n",
    "**Propósito:** Comprender y aplicar las ideas clave del tema, analizando complejidad y usos prácticos."
   ]
  },
  {
   "cell_type": "markdown",
   "id": "49928c83",
   "metadata": {},
   "source": [
    "### Objetivos de aprendizaje\n",
    "- Reconocer el modelo de datos y operaciones fundamentales.\n",
    "- Analizar la complejidad temporal y espacial de las operaciones clave.\n",
    "- Implementar y probar funciones en Python con casos de uso reales.\n",
    "- Comparar ventajas y limitaciones frente a alternativas.\n"
   ]
  },
  {
   "cell_type": "markdown",
   "id": "3309cdad",
   "metadata": {},
   "source": [
    "### Teoría esencial\n",
    "\n",
    "Estructura basada en hashing para pertenencia sin duplicados.\n",
    "Operaciones promedio:\n",
    "- inserción, búsqueda, eliminación: O(1) promedio; O(n) peor caso por colisiones."
   ]
  },
  {
   "cell_type": "markdown",
   "id": "8c759726",
   "metadata": {},
   "source": [
    "### Guía de estudio\n",
    "- Identifica operaciones fundamentales y su costo asintótico.\n",
    "- Observa invariante(s) de la estructura (lo que siempre debe cumplirse).\n",
    "- Relaciona la estructura con patrones de uso en software (colas de trabajo, caches, planificadores, etc.)."
   ]
  },
  {
   "cell_type": "markdown",
   "id": "e802de06",
   "metadata": {},
   "source": [
    "### Implementación base (desde el archivo `.py`)\n",
    "El siguiente bloque contiene el código original."
   ]
  },
  {
   "cell_type": "code",
   "execution_count": null,
   "id": "0a0d80f9",
   "metadata": {},
   "outputs": [],
   "source": [
    "print('*** Manejo de Sets ***')\n",
    "# Crear un conjunto\n",
    "mi_set = {1, 2, 3, 4, 5, 4}\n",
    "print(f'Mi set: {mi_set}')\n",
    "\n",
    "# Agregar elementos al set\n",
    "mi_set.add(6)\n",
    "mi_set.add(7)\n",
    "\n",
    "# Intentamos agregar un elemento duplicado\n",
    "mi_set.add(3)\n",
    "\n",
    "# Eliminar un elemento del conjunto\n",
    "mi_set.remove(4)\n",
    "print(f'Mi set modificado: {mi_set}')\n",
    "\n",
    "# Iterar los elementos del set\n",
    "for elemento in mi_set:\n",
    "    print(elemento, end=' ')\n",
    "\n",
    "# Comprobar si existe un elemento en el set\n",
    "print(f'\\nExiste el valor de 1 en el set? {1 in mi_set}')\n",
    "\n",
    "# Obtener la longitud del set\n",
    "print(f'Longitud del conjunto: {len(mi_set)}')"
   ]
  },
  {
   "cell_type": "markdown",
   "id": "10366712",
   "metadata": {},
   "source": [
    "### Pruebas rápidas\n",
    "Usa estos ejemplos para verificar comportamientos básicos. Ajusta según tus funciones."
   ]
  },
  {
   "cell_type": "code",
   "execution_count": null,
   "id": "8666d886",
   "metadata": {},
   "outputs": [],
   "source": [
    "# Agrega aquí tus pruebas unitarias"
   ]
  },
  {
   "cell_type": "markdown",
   "id": "3cc9975d",
   "metadata": {},
   "source": [
    "### Complejidad (análisis informal)\n",
    "Completa esta tabla de forma crítica, justificando cada costo.\n",
    "\n",
    "| Operación | Mejor caso | Promedio | Peor caso | Nota |\n",
    "|---|---|---|---|---|\n",
    "| op1 | O( ) | O( ) | O( ) |  |\n",
    "| op2 | O( ) | O( ) | O( ) |  |\n",
    "| op3 | O( ) | O( ) | O( ) |  |"
   ]
  },
  {
   "cell_type": "markdown",
   "id": "2ddd4ece",
   "metadata": {},
   "source": [
    "### Ejercicios propuestos\n",
    "1. Implementa pruebas unitarias con `pytest` para al menos 5 funciones/operaciones.\n",
    "2. Mide empíricamente tiempos (con `timeit`) al variar n, y compara con el análisis teórico.\n",
    "3. Extiende la implementación para cubrir un caso límite (overflow, colisión, degeneración, etc.).\n",
    "4. Escribe una breve reflexión: ¿en qué contextos reales usarías esta estructura sobre sus alternativas?"
   ]
  },
  {
   "cell_type": "markdown",
   "id": "1a83b588",
   "metadata": {},
   "source": [
    "### Referencias rápidas\n",
    "- Cormen, Leiserson, Rivest, Stein. *Introduction to Algorithms* (CLRS).\n",
    "- Sedgewick & Wayne. *Algorithms*.\n",
    "- Documentación oficial de Python: `collections`, `heapq`, `bisect`, `array`."
   ]
  },
  {
   "cell_type": "markdown",
   "id": "c8e03d14",
   "metadata": {},
   "source": [
    "*Fuente de código:* `16-EjemploSets-UP.py`  — Generado automáticamente el 2025-09-08 22:41."
   ]
  }
 ],
 "metadata": {},
 "nbformat": 4,
 "nbformat_minor": 5
}
