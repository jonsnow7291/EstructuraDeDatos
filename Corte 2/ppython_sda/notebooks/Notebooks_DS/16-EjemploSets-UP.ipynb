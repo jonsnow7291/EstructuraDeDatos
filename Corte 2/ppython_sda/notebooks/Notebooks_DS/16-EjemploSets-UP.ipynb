{
 "cells": [
  {
   "cell_type": "markdown",
   "id": "b795ed35",
   "metadata": {},
   "source": [
    "# Conjuntos (HashSet)\n",
    "\n",
    "**Curso:** Estructuras de Datos (Ingeniería de Sistemas)\n",
    "\n",
    "**Propósito:** Comprender y aplicar las ideas clave del tema, analizando complejidad y usos prácticos."
   ]
  },
  {
   "cell_type": "markdown",
   "id": "49928c83",
   "metadata": {},
   "source": [
    "### Objetivos de aprendizaje\n",
    "- Reconocer el modelo de datos y operaciones fundamentales.\n",
    "- Analizar la complejidad temporal y espacial de las operaciones clave.\n",
    "- Implementar y probar funciones en Python con casos de uso reales.\n",
    "- Comparar ventajas y limitaciones frente a alternativas.\n"
   ]
  },
  {
   "cell_type": "markdown",
   "id": "3309cdad",
   "metadata": {},
   "source": [
    "### Teoría esencial\n",
    "\n",
    "Estructura basada en hashing para pertenencia sin duplicados.\n",
    "Operaciones promedio:\n",
    "- inserción, búsqueda, eliminación: O(1) promedio; O(n) peor caso por colisiones."
   ]
  },
  {
   "cell_type": "markdown",
   "id": "8c759726",
   "metadata": {},
   "source": [
    "### Guía de estudio\n",
    "- Identifica operaciones fundamentales y su costo asintótico.\n",
    "- Observa invariante(s) de la estructura (lo que siempre debe cumplirse).\n",
    "- Relaciona la estructura con patrones de uso en software (colas de trabajo, caches, planificadores, etc.)."
   ]
  },
  {
   "cell_type": "markdown",
   "id": "e802de06",
   "metadata": {},
   "source": [
    "### Implementación base (desde el archivo `.py`)\n",
    "El siguiente bloque contiene el código original."
   ]
  },
  {
   "cell_type": "code",
   "execution_count": null,
   "id": "0a0d80f9",
   "metadata": {},
   "outputs": [],
   "source": [
    "print('*** Manejo de Sets ***')\n",
    "# Crear un conjunto\n",
    "mi_set = {1, 2, 3, 4, 5, 4}\n",
    "print(f'Mi set: {mi_set}')\n",
    "\n",
    "# Agregar elementos al set\n",
    "mi_set.add(6)\n",
    "mi_set.add(7)\n",
    "\n",
    "# Intentamos agregar un elemento duplicado\n",
    "mi_set.add(3)\n",
    "\n",
    "# Eliminar un elemento del conjunto\n",
    "mi_set.remove(4)\n",
    "print(f'Mi set modificado: {mi_set}')\n",
    "\n",
    "# Iterar los elementos del set\n",
    "for elemento in mi_set:\n",
    "    print(elemento, end=' ')\n",
    "\n",
    "# Comprobar si existe un elemento en el set\n",
    "print(f'\\nExiste el valor de 1 en el set? {1 in mi_set}')\n",
    "\n",
    "# Obtener la longitud del set\n",
    "print(f'Longitud del conjunto: {len(mi_set)}')"
   ]
  },
  {
   "cell_type": "markdown",
   "id": "10366712",
   "metadata": {},
   "source": [
    "### Pruebas rápidas\n",
    "Usa estos ejemplos para verificar comportamientos básicos. Ajusta según tus funciones."
   ]
  },
  {
   "cell_type": "code",
   "execution_count": null,
   "id": "8666d886",
   "metadata": {},
   "outputs": [],
   "source": [
    "# Agrega aquí tus pruebas unitarias"
   ]
  },
  {
   "cell_type": "markdown",
   "id": "3cc9975d",
   "metadata": {},
   "source": [
    "### Complejidad (análisis informal)\n",
    "Completa esta tabla de forma crítica, justificando cada costo.\n",
    "\n",
    "| Operación | Mejor caso | Promedio | Peor caso | Nota |\n",
    "|---|---|---|---|---|\n",
    "| op1 | O( ) | O( ) | O( ) |  |\n",
    "| op2 | O( ) | O( ) | O( ) |  |\n",
    "| op3 | O( ) | O( ) | O( ) |  |"
   ]
  },
  {
   "cell_type": "markdown",
   "id": "2ddd4ece",
   "metadata": {},
   "source": [
    "### Ejercicios propuestos\n",
    "1. Implementa pruebas unitarias con `pytest` para al menos 5 funciones/operaciones.\n",
    "2. Mide empíricamente tiempos (con `timeit`) al variar n, y compara con el análisis teórico.\n",
    "3. Extiende la implementación para cubrir un caso límite (overflow, colisión, degeneración, etc.).\n",
    "4. Escribe una breve reflexión: ¿en qué contextos reales usarías esta estructura sobre sus alternativas?"
   ]
  },
  {
   "cell_type": "markdown",
   "id": "0a92c906",
   "metadata": {},
   "source": [
    "### Desarrollo de los ejercicios\n",
    "**1. Pruebas unitarias:** Se creó `src/set_ops.py` con operaciones y `tests/test_set_ops.py` cubriendo: creación, add (idempotencia), remove (éxito y excepción), unión/intersección/diferencia, tamaño, pertenencia y un caso de colisiones extremas (`BadHash`).\n",
    "\n",
    "**2. Medición empírica:** Script `benchmarks/bench_set_ops.py` compara tiempos de `contains` y `add` para enteros normales vs objetos `BadHash` que fuerzan colisiones (hash constante). Esperado: escenario normal casi constante (O(1) promedio) y el degenerado crece más con n.\n",
    "\n",
    "**3. Caso límite / degeneración:** La clase `BadHash` demuestra cómo el abuso de colisiones puede degradar el rendimiento teórico, acercando operaciones a O(n).\n",
    "\n",
    "**4. Reflexión (resumen):** Un `set` es ideal para pruebas rápidas de pertenencia, eliminación de duplicados, operaciones de algebra de conjuntos (recomendaciones, filtros de permisos, etc.) sobre tamaños moderados a grandes; comparado con listas evita O(n) en búsqueda. Frente a `dict`, se usa cuando sólo importa la clave (no un valor asociado). Frente a estructuras ordenadas, se sacrifica orden para ganar eficiencia promedio.\n"
   ]
  },
  {
   "cell_type": "code",
   "execution_count": null,
   "id": "c8b97fb6",
   "metadata": {},
   "outputs": [],
   "source": [
    "# Benchmark rápido inline (complementario al script en benchmarks)\n",
    "from timeit import repeat\n",
    "from ppython_sda.src.set_ops import create_set, add_element, contains, BadHash\n",
    "\n",
    "sizes = [10, 100, 1000, 5000]\n",
    "res = []\n",
    "for n in sizes:\n",
    "    normal = create_set(range(n))\n",
    "    deg = create_set(BadHash(i) for i in range(n))\n",
    "    setup = \"from __main__ import normal, contains\"  # normal in scope\n",
    "    t_contains = min(repeat(stmt=\"contains(normal, 0)\", setup=setup, number=50, repeat=3))/50\n",
    "    # Degenerado: pick an element\n",
    "    setup2 = \"from __main__ import deg, contains\"\n",
    "    t_contains_deg = min(repeat(stmt=\"contains(deg, list(deg)[0])\", setup=setup2, number=50, repeat=3))/50\n",
    "    res.append((n, t_contains, t_contains_deg))\n",
    "\n",
    "print(\"n\\tnormal_contains\\tdegen_contains (BadHash)\")\n",
    "for n, t1, t2 in res:\n",
    "    print(f\"{n}\\t{t1:.3e}\\t{t2:.3e}\")\n",
    "print(\"\\nObserva si la columna degenerada crece más rápidamente -> efecto de colisiones.\")"
   ]
  },
  {
   "cell_type": "markdown",
   "id": "b4752ee8",
   "metadata": {},
   "source": [
    "#### Comparación empírico vs teórico\n",
    "En el caso normal, los tiempos de `contains` permanecen casi planos (O(1) promedio). Con `BadHash`, al aumentar n la estructura pierde eficiencia porque todas las inserciones comparten bucket, acercándose a un comportamiento lineal. Esto ilustra por qué la calidad de las funciones hash y la dispersión de claves son críticas para mantener la complejidad promedio ideal.\n",
    "\n",
    "Conclusión: los sets son potentes para pertenencia y álgebra de conjuntos, pero dependen de una buena función hash y claves apropiadas para garantizar su rendimiento típico."
   ]
  },
  {
   "cell_type": "markdown",
   "id": "1a83b588",
   "metadata": {},
   "source": [
    "### Referencias rápidas\n",
    "- Cormen, Leiserson, Rivest, Stein. *Introduction to Algorithms* (CLRS).\n",
    "- Sedgewick & Wayne. *Algorithms*.\n",
    "- Documentación oficial de Python: `collections`, `heapq`, `bisect`, `array`."
   ]
  },
  {
   "cell_type": "markdown",
   "id": "c8e03d14",
   "metadata": {},
   "source": [
    "*Fuente de código:* `16-EjemploSets-UP.py`  — Generado automáticamente el 2025-09-08 22:41."
   ]
  }
 ],
 "metadata": {
  "language_info": {
   "name": "python"
  }
 },
 "nbformat": 4,
 "nbformat_minor": 5
}
