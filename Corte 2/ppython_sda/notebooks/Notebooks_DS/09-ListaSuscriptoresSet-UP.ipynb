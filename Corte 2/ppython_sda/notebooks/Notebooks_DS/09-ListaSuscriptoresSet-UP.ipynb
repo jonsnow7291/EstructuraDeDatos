{
 "cells": [
  {
   "cell_type": "markdown",
   "id": "a67502d6",
   "metadata": {},
   "source": [
    "# Listas (arreglos dinámicos)\n",
    "\n",
    "**Curso:** Estructuras de Datos (Ingeniería de Sistemas)\n",
    "\n",
    "**Propósito:** Comprender y aplicar las ideas clave del tema, analizando complejidad y usos prácticos."
   ]
  },
  {
   "cell_type": "markdown",
   "id": "9cfb9b58",
   "metadata": {},
   "source": [
    "### Objetivos de aprendizaje\n",
    "- Reconocer el modelo de datos y operaciones fundamentales.\n",
    "- Analizar la complejidad temporal y espacial de las operaciones clave.\n",
    "- Implementar y probar funciones en Python con casos de uso reales.\n",
    "- Comparar ventajas y limitaciones frente a alternativas.\n"
   ]
  },
  {
   "cell_type": "markdown",
   "id": "6a64d459",
   "metadata": {},
   "source": [
    "### Teoría esencial\n",
    "\n",
    "Las listas en Python son contenedores ordenados y mutables. En estructuras de datos,\n",
    "representan arreglos dinámicos sobre un bloque contiguo de memoria con realocación amortizada.\n",
    "Operaciones típicas:\n",
    "- Acceso por índice: O(1)\n",
    "- Inserción/eliminación al final (append/pop): O(1) amortizado\n",
    "- Inserción/eliminación en posición arbitraria: O(n)\n",
    "- Búsqueda lineal: O(n)"
   ]
  },
  {
   "cell_type": "markdown",
   "id": "f352a4ae",
   "metadata": {},
   "source": [
    "### Guía de estudio\n",
    "- Identifica operaciones fundamentales y su costo asintótico.\n",
    "- Observa invariante(s) de la estructura (lo que siempre debe cumplirse).\n",
    "- Relaciona la estructura con patrones de uso en software (colas de trabajo, caches, planificadores, etc.)."
   ]
  },
  {
   "cell_type": "markdown",
   "id": "d030d852",
   "metadata": {},
   "source": [
    "### Implementación base (desde el archivo `.py`)\n",
    "El siguiente bloque contiene el código original."
   ]
  },
  {
   "cell_type": "code",
   "execution_count": null,
   "id": "9e26f1df",
   "metadata": {},
   "outputs": [],
   "source": [
    "print('*** Lista de Suscriptores ***')\n",
    "\n",
    "suscriptores = {'luisa@mail.com', 'marcos@mail.com', 'elena@mail.com'}\n",
    "print(f'Lista de suscriptores inicial: {suscriptores}')\n",
    "\n",
    "# Verifica si un nuevo suscriptor ya está en la lista\n",
    "nuevo_suscriptor = 'karla@mail.com'\n",
    "if nuevo_suscriptor in suscriptores:\n",
    "    print(f'El nuevo suscriptor ya está en la lista {nuevo_suscriptor}')\n",
    "else:\n",
    "    suscriptores.add(nuevo_suscriptor)\n",
    "    print(f'El nuevo suscriptor se ha agregado a la lista {nuevo_suscriptor}')\n",
    "print(f'Lista de suscriptores: {suscriptores}')\n",
    "\n",
    "# Eliminamos un suscriptor\n",
    "suscriptor_eliminar = 'elena@mail.com'\n",
    "suscriptores.remove(suscriptor_eliminar)\n",
    "print(f'El suscriptor {suscriptor_eliminar} ha sido eliminado de la lista')\n",
    "print(f'Lista de suscriptores: {suscriptores}')\n",
    "\n",
    "# Verificamos la cantidad total de suscriptores\n",
    "print(f'Cantidad total suscriptores: {len(suscriptores)}')\n",
    "\n",
    "# Mostramos todos los suscriptores\n",
    "print(f'--- Lista de Suscriptores ---')\n",
    "for suscriptor in suscriptores:\n",
    "    print(f'- {suscriptor}')"
   ]
  },
  {
   "cell_type": "markdown",
   "id": "b8c55567",
   "metadata": {},
   "source": [
    "### Pruebas rápidas\n",
    "Usa estos ejemplos para verificar comportamientos básicos. Ajusta según tus funciones."
   ]
  },
  {
   "cell_type": "code",
   "execution_count": null,
   "id": "babc7b85",
   "metadata": {},
   "outputs": [],
   "source": [
    "# Agrega aquí tus pruebas unitarias"
   ]
  },
  {
   "cell_type": "markdown",
   "id": "390c316c",
   "metadata": {},
   "source": [
    "### Complejidad (análisis informal)\n",
    "Completa esta tabla de forma crítica, justificando cada costo.\n",
    "\n",
    "| Operación | Mejor caso | Promedio | Peor caso | Nota |\n",
    "|---|---|---|---|---|\n",
    "| op1 | O( ) | O( ) | O( ) |  |\n",
    "| op2 | O( ) | O( ) | O( ) |  |\n",
    "| op3 | O( ) | O( ) | O( ) |  |"
   ]
  },
  {
   "cell_type": "markdown",
   "id": "1987e036",
   "metadata": {},
   "source": [
    "### Ejercicios propuestos\n",
    "1. Implementa pruebas unitarias con `pytest` para al menos 5 funciones/operaciones.\n",
    "2. Mide empíricamente tiempos (con `timeit`) al variar n, y compara con el análisis teórico.\n",
    "3. Extiende la implementación para cubrir un caso límite (overflow, colisión, degeneración, etc.).\n",
    "4. Escribe una breve reflexión: ¿en qué contextos reales usarías esta estructura sobre sus alternativas?"
   ]
  },
  {
   "cell_type": "markdown",
   "id": "a6970b6a",
   "metadata": {},
   "source": [
    "### Referencias rápidas\n",
    "- Cormen, Leiserson, Rivest, Stein. *Introduction to Algorithms* (CLRS).\n",
    "- Sedgewick & Wayne. *Algorithms*.\n",
    "- Documentación oficial de Python: `collections`, `heapq`, `bisect`, `array`."
   ]
  },
  {
   "cell_type": "markdown",
   "id": "fc7a0ee1",
   "metadata": {},
   "source": [
    "*Fuente de código:* `09-ListaSuscriptoresSet-UP.py`  — Generado automáticamente el 2025-09-08 22:41."
   ]
  }
 ],
 "metadata": {},
 "nbformat": 4,
 "nbformat_minor": 5
}
