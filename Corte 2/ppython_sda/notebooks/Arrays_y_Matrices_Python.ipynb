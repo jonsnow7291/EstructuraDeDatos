{
 "cells": [
  {
   "cell_type": "markdown",
   "id": "3fa90e61",
   "metadata": {},
   "source": [
    "# Arrays unidimensionales (vectores) y bidimensionales (matrices) en Python\n",
    "\n",
    "**Programa:** Ingeniería de Sistemas  \n",
    "**Lenguaje:** Python (PEP8, variables en español)  \n",
    "**Formato:** Jupyter Notebook  \n",
    "**Autoría:** Generado automáticamente — 2025-09-08\n",
    "\n",
    "---\n",
    "\n",
    "## Objetivos de aprendizaje\n",
    "- Diferenciar entre **listas** de Python, `array.array` y **NumPy** para vectores y matrices.\n",
    "- Implementar operaciones básicas sobre **vectores** y **matrices**.\n",
    "- Comprender implicaciones de **complejidad** y **memoria** al elegir una representación.\n",
    "- Resolver un **taller** aplicado con verificación por pruebas.\n"
   ]
  },
  {
   "cell_type": "markdown",
   "id": "079f10e2",
   "metadata": {},
   "source": [
    "\n",
    "## Contenido\n",
    "1. Preparación del entorno\n",
    "2. Vectores con listas de Python\n",
    "3. Vectores tipados con `array.array`\n",
    "4. Vectores con NumPy (opcional)\n",
    "5. Matrices con listas de listas\n",
    "6. Matrices con NumPy (opcional)\n",
    "7. Mini laboratorio guiado\n",
    "8. Taller final\n"
   ]
  },
  {
   "cell_type": "markdown",
   "id": "639e9182",
   "metadata": {},
   "source": [
    "## 1) Preparación del entorno\n",
    "\n",
    "- Usaremos **listas** nativas de Python como base.\n",
    "- Mostraremos `array.array` para vectores **tipados**.\n",
    "- Si está disponible, veremos **NumPy** (opcional).\n"
   ]
  },
  {
   "cell_type": "code",
   "execution_count": 1,
   "id": "4a902412",
   "metadata": {},
   "outputs": [
    {
     "data": {
      "text/plain": [
       "True"
      ]
     },
     "execution_count": 1,
     "metadata": {},
     "output_type": "execute_result"
    }
   ],
   "source": [
    "try:\n",
    "    import numpy as np\n",
    "    numpy_disponible = True\n",
    "except Exception:\n",
    "    numpy_disponible = False\n",
    "numpy_disponible"
   ]
  },
  {
   "cell_type": "markdown",
   "id": "e493be1c",
   "metadata": {},
   "source": [
    "## 2) Vectores con listas de Python\n",
    "\n",
    "Listas (`list`) = contenedores dinámicos:\n",
    "- Indexación y *slicing*.\n",
    "- Acceso O(1); inserciones intermedias O(n).\n"
   ]
  },
  {
   "cell_type": "code",
   "execution_count": 2,
   "id": "3076a117",
   "metadata": {},
   "outputs": [
    {
     "name": "stdout",
     "output_type": "stream",
     "text": [
      "Vector: [10, 20, 30, 40, 50]\n",
      "Longitud: 5\n",
      "Primero y último: 10 50\n",
      "Slice [1:4]: [20, 30, 40]\n",
      "Mutado: [10, 15, 20, 30, 40, 50] | removido: 60\n",
      "Cuadrados: [100, 225, 400, 900, 1600, 2500]\n"
     ]
    }
   ],
   "source": [
    "vector = [10, 20, 30, 40, 50]\n",
    "print(\"Vector:\", vector)\n",
    "print(\"Longitud:\", len(vector))\n",
    "print(\"Primero y último:\", vector[0], vector[-1])\n",
    "print(\"Slice [1:4]:\", vector[1:4])\n",
    "vector.append(60)\n",
    "vector.insert(1, 15)\n",
    "removido = vector.pop()\n",
    "print(\"Mutado:\", vector, \"| removido:\", removido)\n",
    "cuadrados = [x**2 for x in vector]\n",
    "print(\"Cuadrados:\", cuadrados)"
   ]
  },
  {
   "cell_type": "markdown",
   "id": "34f66fea",
   "metadata": {},
   "source": [
    "## 3) Vectores tipados con `array.array`"
   ]
  },
  {
   "cell_type": "code",
   "execution_count": 3,
   "id": "93117a2f",
   "metadata": {},
   "outputs": [
    {
     "name": "stdout",
     "output_type": "stream",
     "text": [
      "array('i'): [1, 2, 3, 4, 5] | bytes/elem: 4\n"
     ]
    }
   ],
   "source": [
    "from array import array\n",
    "vector_enteros = array('i', [1,2,3,4])\n",
    "vector_enteros.append(5)\n",
    "print(\"array('i'):\", vector_enteros.tolist(), \"| bytes/elem:\", vector_enteros.itemsize)"
   ]
  },
  {
   "cell_type": "markdown",
   "id": "058b0283",
   "metadata": {},
   "source": [
    "## 4) Vectores con NumPy (opcional)"
   ]
  },
  {
   "cell_type": "code",
   "execution_count": 5,
   "id": "75554bb2",
   "metadata": {},
   "outputs": [
    {
     "name": "stdout",
     "output_type": "stream",
     "text": [
      "v: [1 2 3 4 5] | dtype: int32 | shape: (5,)\n",
      "v*10: [10 20 30 40 50]\n",
      "v+v: [ 2  4  6  8 10]\n"
     ]
    }
   ],
   "source": [
    "if numpy_disponible:\n",
    "    import numpy as np\n",
    "    v = np.array([1,2,3,4,5], dtype=np.int32)\n",
    "    print(\"v:\", v, \"| dtype:\", v.dtype, \"| shape:\", v.shape)\n",
    "    print(\"v*10:\", v*10)\n",
    "    print(\"v+v:\", v+v)\n",
    "else:\n",
    "    print(\"NumPy no está disponible — sección opcional omitida.\")"
   ]
  },
  {
   "cell_type": "markdown",
   "id": "a107e842",
   "metadata": {},
   "source": [
    "## 5) Matrices con listas de listas\n",
    "\n",
    "Precaución: NO uses `[[0]*m]*n` (alias de filas). Usa comprensiones anidadas.\n"
   ]
  },
  {
   "cell_type": "code",
   "execution_count": 4,
   "id": "d4e1a128",
   "metadata": {},
   "outputs": [
    {
     "name": "stdout",
     "output_type": "stream",
     "text": [
      "Matriz incorrecta (alias): [[99, 0, 0, 0], [99, 0, 0, 0], [99, 0, 0, 0]]\n",
      "Matriz correcta: [[99, 0, 0, 0], [0, 0, 0, 0], [0, 0, 0, 0]]\n",
      "a x b = [[58, 64], [139, 154]]\n"
     ]
    }
   ],
   "source": [
    "n_filas, n_columnas = 3, 4\n",
    "matriz_mala = [[0]*n_columnas]*n_filas\n",
    "matriz_mala[0][0] = 99\n",
    "print(\"Matriz incorrecta (alias):\", matriz_mala)\n",
    "matriz = [[0 for _ in range(n_columnas)] for _ in range(n_filas)]\n",
    "matriz[0][0] = 99\n",
    "print(\"Matriz correcta:\", matriz)\n",
    "\n",
    "def transponer(m):\n",
    "    n = len(m); m2 = len(m[0]) if n>0 else 0\n",
    "    return [[m[f][c] for f in range(n)] for c in range(m2)]\n",
    "\n",
    "def multiplicar_matrices(a, b):\n",
    "    fa, ca = len(a), len(a[0])\n",
    "    fb, cb = len(b), len(b[0])\n",
    "    assert ca == fb, \"Dimensiones incompatibles\"\n",
    "    r = [[0 for _ in range(cb)] for _ in range(fa)]\n",
    "    for i in range(fa):\n",
    "        for j in range(cb):\n",
    "            total = 0\n",
    "            for k in range(ca):\n",
    "                total += a[i][k] * b[k][j]\n",
    "            r[i][j] = total\n",
    "    return r\n",
    "\n",
    "a = [[1,2,3],[4,5,6]]\n",
    "b = [[7,8],[9,10],[11,12]]\n",
    "print(\"a x b =\", multiplicar_matrices(a,b))"
   ]
  },
  {
   "cell_type": "markdown",
   "id": "ffb5f0cd",
   "metadata": {},
   "source": [
    "## 6) Matrices con NumPy (opcional)"
   ]
  },
  {
   "cell_type": "code",
   "execution_count": null,
   "id": "cbc5055c",
   "metadata": {},
   "outputs": [],
   "source": [
    "if numpy_disponible:\n",
    "    import numpy as np\n",
    "    m = np.arange(12).reshape(3,4)\n",
    "    print(\"m=\\n\", m)\n",
    "    print(\"Suma por filas:\", m.sum(axis=1))\n",
    "    print(\"Suma por columnas:\", m.sum(axis=0))\n",
    "    a = np.array([[1,2,3],[4,5,6]])\n",
    "    b = np.array([[7,8],[9,10],[11,12]])\n",
    "    print(\"a @ b=\\n\", a @ b)\n",
    "else:\n",
    "    print(\"NumPy no está disponible — sección opcional omitida.\")"
   ]
  },
  {
   "cell_type": "markdown",
   "id": "f06fcda5",
   "metadata": {},
   "source": [
    "## 7) Mini laboratorio guiado\n",
    "\n",
    "1. Generar matriz `notas` (n_estudiantes × n_cortes) con enteros 0–100.\n",
    "2. Promedio por estudiante y por corte.\n",
    "3. Estudiante con mayor promedio y corte más exigente (promedio más bajo).\n",
    "4. Normalización por columna (si hay NumPy).\n"
   ]
  },
  {
   "cell_type": "code",
   "execution_count": 7,
   "id": "ef7d0c1e",
   "metadata": {},
   "outputs": [
    {
     "name": "stdout",
     "output_type": "stream",
     "text": [
      "[79, 59, 34, 0]\n",
      "[93, 84, 42, 80]\n",
      "[72, 56, 59, 45]\n",
      "[75, 16, 84, 69]\n",
      "[21, 65, 43, 90]\n",
      "Promedio por estudiante: [43.0, 74.75, 58.0, 61.0, 54.75]\n",
      "Promedio por corte: [68.0, 56.0, 52.4, 56.8]\n",
      "Mejor estudiante (índice): 1 | Corte más exigente (índice): 2\n",
      "Normalizada:\n",
      " [[0.80555556 0.63235294 0.         0.        ]\n",
      " [1.         1.         0.16       0.88888889]\n",
      " [0.70833333 0.58823529 0.5        0.5       ]\n",
      " [0.75       0.         1.         0.76666667]\n",
      " [0.         0.72058824 0.18       1.        ]]\n"
     ]
    }
   ],
   "source": [
    "import random\n",
    "def generar_notas(n_estudiantes:int, n_cortes:int)->list[list[int]]:\n",
    "    return [[random.randint(0,100) for _ in range(n_cortes)] for _ in range(n_estudiantes)]\n",
    "notas = generar_notas(5,4)\n",
    "for fila in notas: print(fila)\n",
    "promedio_est = [sum(f)/len(f) for f in notas]\n",
    "promedio_corte = [sum(notas[f][c] for f in range(len(notas)))/len(notas) for c in range(len(notas[0]))]\n",
    "print(\"Promedio por estudiante:\", promedio_est)\n",
    "print(\"Promedio por corte:\", promedio_corte)\n",
    "mejor = max(range(len(notas)), key=lambda i: promedio_est[i])\n",
    "peor_corte = min(range(len(notas[0])), key=lambda c: promedio_corte[c])\n",
    "print(\"Mejor estudiante (índice):\", mejor, \"| Corte más exigente (índice):\", peor_corte)\n",
    "if 'numpy_disponible' in globals() and numpy_disponible:\n",
    "    import numpy as np\n",
    "    m = np.array(notas, dtype=float)\n",
    "    norm = (m - m.min(axis=0)) / (m.max(axis=0) - m.min(axis=0) + 1e-9)\n",
    "    print(\"Normalizada:\\n\", norm)"
   ]
  },
  {
   "cell_type": "markdown",
   "id": "cf0d5b2b",
   "metadata": {},
   "source": [
    "## 8) Taller final (para entregar)\n",
    "\n",
    "**Básico**\n",
    "1. `diferencias_consecutivas(vector)` → lista con `v[i+1]-v[i]`.\n",
    "2. `rotar_derecha(vector, k)` sin `deque`.\n",
    "\n",
    "**Intermedio**\n",
    "3. `transponer(matriz)` sin librerías; prueba con asserts.\n",
    "4. `multiplicar_matrices(a, b)` con verificación de dimensiones.\n",
    "\n",
    "**Avanzado**\n",
    "5. `camino_maximo(matriz)` con PD y movimientos derecha/abajo.\n",
    "6. Producto punto y **ángulo** entre dos vectores `v` y `w`.\n",
    "7. (Opcional) `%timeit` para sumar dos vectores grandes con bucle vs vectorización.\n",
    "8. Eliminar filas y columnas con suma 0 y retornar la submatriz resultante.\n"
   ]
  }
 ],
 "metadata": {
  "kernelspec": {
   "display_name": ".venv",
   "language": "python",
   "name": "python3"
  },
  "language_info": {
   "codemirror_mode": {
    "name": "ipython",
    "version": 3
   },
   "file_extension": ".py",
   "mimetype": "text/x-python",
   "name": "python",
   "nbconvert_exporter": "python",
   "pygments_lexer": "ipython3",
   "version": "3.12.1"
  }
 },
 "nbformat": 4,
 "nbformat_minor": 5
}
